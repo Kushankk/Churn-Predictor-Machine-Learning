{
  "cells": [
    {
      "cell_type": "markdown",
      "id": "b74bc979",
      "metadata": {
        "id": "b74bc979"
      },
      "source": [
        "# PART 1| DATA PROCESSING"
      ]
    },
    {
      "cell_type": "markdown",
      "id": "288e20c7",
      "metadata": {
        "id": "288e20c7"
      },
      "source": [
        "### Importing essential libraries"
      ]
    },
    {
      "cell_type": "code",
      "source": [
        "# Uploading Files (xlxs and pdf)\n",
        "from google.colab import files\n",
        "uploaded = files.upload()\n"
      ],
      "metadata": {
        "colab": {
          "base_uri": "https://localhost:8080/",
          "height": 109
        },
        "id": "hYKDg_1QiRuT",
        "outputId": "686b6903-aa05-44cc-a60b-9b50dd894869"
      },
      "id": "hYKDg_1QiRuT",
      "execution_count": 2,
      "outputs": [
        {
          "output_type": "display_data",
          "data": {
            "text/plain": [
              "<IPython.core.display.HTML object>"
            ],
            "text/html": [
              "\n",
              "     <input type=\"file\" id=\"files-3ebcd522-ec0c-4335-8d97-ffa858c85876\" name=\"files[]\" multiple disabled\n",
              "        style=\"border:none\" />\n",
              "     <output id=\"result-3ebcd522-ec0c-4335-8d97-ffa858c85876\">\n",
              "      Upload widget is only available when the cell has been executed in the\n",
              "      current browser session. Please rerun this cell to enable.\n",
              "      </output>\n",
              "      <script>// Copyright 2017 Google LLC\n",
              "//\n",
              "// Licensed under the Apache License, Version 2.0 (the \"License\");\n",
              "// you may not use this file except in compliance with the License.\n",
              "// You may obtain a copy of the License at\n",
              "//\n",
              "//      http://www.apache.org/licenses/LICENSE-2.0\n",
              "//\n",
              "// Unless required by applicable law or agreed to in writing, software\n",
              "// distributed under the License is distributed on an \"AS IS\" BASIS,\n",
              "// WITHOUT WARRANTIES OR CONDITIONS OF ANY KIND, either express or implied.\n",
              "// See the License for the specific language governing permissions and\n",
              "// limitations under the License.\n",
              "\n",
              "/**\n",
              " * @fileoverview Helpers for google.colab Python module.\n",
              " */\n",
              "(function(scope) {\n",
              "function span(text, styleAttributes = {}) {\n",
              "  const element = document.createElement('span');\n",
              "  element.textContent = text;\n",
              "  for (const key of Object.keys(styleAttributes)) {\n",
              "    element.style[key] = styleAttributes[key];\n",
              "  }\n",
              "  return element;\n",
              "}\n",
              "\n",
              "// Max number of bytes which will be uploaded at a time.\n",
              "const MAX_PAYLOAD_SIZE = 100 * 1024;\n",
              "\n",
              "function _uploadFiles(inputId, outputId) {\n",
              "  const steps = uploadFilesStep(inputId, outputId);\n",
              "  const outputElement = document.getElementById(outputId);\n",
              "  // Cache steps on the outputElement to make it available for the next call\n",
              "  // to uploadFilesContinue from Python.\n",
              "  outputElement.steps = steps;\n",
              "\n",
              "  return _uploadFilesContinue(outputId);\n",
              "}\n",
              "\n",
              "// This is roughly an async generator (not supported in the browser yet),\n",
              "// where there are multiple asynchronous steps and the Python side is going\n",
              "// to poll for completion of each step.\n",
              "// This uses a Promise to block the python side on completion of each step,\n",
              "// then passes the result of the previous step as the input to the next step.\n",
              "function _uploadFilesContinue(outputId) {\n",
              "  const outputElement = document.getElementById(outputId);\n",
              "  const steps = outputElement.steps;\n",
              "\n",
              "  const next = steps.next(outputElement.lastPromiseValue);\n",
              "  return Promise.resolve(next.value.promise).then((value) => {\n",
              "    // Cache the last promise value to make it available to the next\n",
              "    // step of the generator.\n",
              "    outputElement.lastPromiseValue = value;\n",
              "    return next.value.response;\n",
              "  });\n",
              "}\n",
              "\n",
              "/**\n",
              " * Generator function which is called between each async step of the upload\n",
              " * process.\n",
              " * @param {string} inputId Element ID of the input file picker element.\n",
              " * @param {string} outputId Element ID of the output display.\n",
              " * @return {!Iterable<!Object>} Iterable of next steps.\n",
              " */\n",
              "function* uploadFilesStep(inputId, outputId) {\n",
              "  const inputElement = document.getElementById(inputId);\n",
              "  inputElement.disabled = false;\n",
              "\n",
              "  const outputElement = document.getElementById(outputId);\n",
              "  outputElement.innerHTML = '';\n",
              "\n",
              "  const pickedPromise = new Promise((resolve) => {\n",
              "    inputElement.addEventListener('change', (e) => {\n",
              "      resolve(e.target.files);\n",
              "    });\n",
              "  });\n",
              "\n",
              "  const cancel = document.createElement('button');\n",
              "  inputElement.parentElement.appendChild(cancel);\n",
              "  cancel.textContent = 'Cancel upload';\n",
              "  const cancelPromise = new Promise((resolve) => {\n",
              "    cancel.onclick = () => {\n",
              "      resolve(null);\n",
              "    };\n",
              "  });\n",
              "\n",
              "  // Wait for the user to pick the files.\n",
              "  const files = yield {\n",
              "    promise: Promise.race([pickedPromise, cancelPromise]),\n",
              "    response: {\n",
              "      action: 'starting',\n",
              "    }\n",
              "  };\n",
              "\n",
              "  cancel.remove();\n",
              "\n",
              "  // Disable the input element since further picks are not allowed.\n",
              "  inputElement.disabled = true;\n",
              "\n",
              "  if (!files) {\n",
              "    return {\n",
              "      response: {\n",
              "        action: 'complete',\n",
              "      }\n",
              "    };\n",
              "  }\n",
              "\n",
              "  for (const file of files) {\n",
              "    const li = document.createElement('li');\n",
              "    li.append(span(file.name, {fontWeight: 'bold'}));\n",
              "    li.append(span(\n",
              "        `(${file.type || 'n/a'}) - ${file.size} bytes, ` +\n",
              "        `last modified: ${\n",
              "            file.lastModifiedDate ? file.lastModifiedDate.toLocaleDateString() :\n",
              "                                    'n/a'} - `));\n",
              "    const percent = span('0% done');\n",
              "    li.appendChild(percent);\n",
              "\n",
              "    outputElement.appendChild(li);\n",
              "\n",
              "    const fileDataPromise = new Promise((resolve) => {\n",
              "      const reader = new FileReader();\n",
              "      reader.onload = (e) => {\n",
              "        resolve(e.target.result);\n",
              "      };\n",
              "      reader.readAsArrayBuffer(file);\n",
              "    });\n",
              "    // Wait for the data to be ready.\n",
              "    let fileData = yield {\n",
              "      promise: fileDataPromise,\n",
              "      response: {\n",
              "        action: 'continue',\n",
              "      }\n",
              "    };\n",
              "\n",
              "    // Use a chunked sending to avoid message size limits. See b/62115660.\n",
              "    let position = 0;\n",
              "    do {\n",
              "      const length = Math.min(fileData.byteLength - position, MAX_PAYLOAD_SIZE);\n",
              "      const chunk = new Uint8Array(fileData, position, length);\n",
              "      position += length;\n",
              "\n",
              "      const base64 = btoa(String.fromCharCode.apply(null, chunk));\n",
              "      yield {\n",
              "        response: {\n",
              "          action: 'append',\n",
              "          file: file.name,\n",
              "          data: base64,\n",
              "        },\n",
              "      };\n",
              "\n",
              "      let percentDone = fileData.byteLength === 0 ?\n",
              "          100 :\n",
              "          Math.round((position / fileData.byteLength) * 100);\n",
              "      percent.textContent = `${percentDone}% done`;\n",
              "\n",
              "    } while (position < fileData.byteLength);\n",
              "  }\n",
              "\n",
              "  // All done.\n",
              "  yield {\n",
              "    response: {\n",
              "      action: 'complete',\n",
              "    }\n",
              "  };\n",
              "}\n",
              "\n",
              "scope.google = scope.google || {};\n",
              "scope.google.colab = scope.google.colab || {};\n",
              "scope.google.colab._files = {\n",
              "  _uploadFiles,\n",
              "  _uploadFilesContinue,\n",
              "};\n",
              "})(self);\n",
              "</script> "
            ]
          },
          "metadata": {}
        },
        {
          "output_type": "stream",
          "name": "stdout",
          "text": [
            "Saving bpp_churn_data.pdf to bpp_churn_data.pdf\n",
            "Saving bpp_churn_data.xlsx to bpp_churn_data.xlsx\n"
          ]
        }
      ]
    },
    {
      "cell_type": "code",
      "source": [],
      "metadata": {
        "id": "RXyPzxZwiRqN"
      },
      "id": "RXyPzxZwiRqN",
      "execution_count": 2,
      "outputs": []
    },
    {
      "cell_type": "code",
      "execution_count": 3,
      "id": "b0faea45",
      "metadata": {
        "collapsed": true,
        "colab": {
          "base_uri": "https://localhost:8080/"
        },
        "id": "b0faea45",
        "outputId": "eb6029b5-b56a-493b-fe76-133e8b322f29"
      },
      "outputs": [
        {
          "output_type": "stream",
          "name": "stdout",
          "text": [
            "Requirement already satisfied: pandas in /usr/local/lib/python3.10/dist-packages (1.5.3)\n",
            "Requirement already satisfied: openpyxl in /usr/local/lib/python3.10/dist-packages (3.1.2)\n",
            "Collecting tabula-py\n",
            "  Downloading tabula_py-2.9.0-py3-none-any.whl (12.0 MB)\n",
            "\u001b[2K     \u001b[90m━━━━━━━━━━━━━━━━━━━━━━━━━━━━━━━━━━━━━━━━\u001b[0m \u001b[32m12.0/12.0 MB\u001b[0m \u001b[31m80.2 MB/s\u001b[0m eta \u001b[36m0:00:00\u001b[0m\n",
            "\u001b[?25hRequirement already satisfied: python-dateutil>=2.8.1 in /usr/local/lib/python3.10/dist-packages (from pandas) (2.8.2)\n",
            "Requirement already satisfied: pytz>=2020.1 in /usr/local/lib/python3.10/dist-packages (from pandas) (2023.3.post1)\n",
            "Requirement already satisfied: numpy>=1.21.0 in /usr/local/lib/python3.10/dist-packages (from pandas) (1.23.5)\n",
            "Requirement already satisfied: et-xmlfile in /usr/local/lib/python3.10/dist-packages (from openpyxl) (1.1.0)\n",
            "Requirement already satisfied: distro in /usr/lib/python3/dist-packages (from tabula-py) (1.7.0)\n",
            "Requirement already satisfied: six>=1.5 in /usr/local/lib/python3.10/dist-packages (from python-dateutil>=2.8.1->pandas) (1.16.0)\n",
            "Installing collected packages: tabula-py\n",
            "Successfully installed tabula-py-2.9.0\n"
          ]
        }
      ],
      "source": [
        "pip install pandas openpyxl tabula-py #Getting tabula-py via pip to read pdf and convert that into dataset"
      ]
    },
    {
      "cell_type": "code",
      "execution_count": 4,
      "id": "6055aa71",
      "metadata": {
        "collapsed": true,
        "colab": {
          "base_uri": "https://localhost:8080/"
        },
        "id": "6055aa71",
        "outputId": "78e4f505-d4fa-4be7-9622-1d9f77a0a75f"
      },
      "outputs": [
        {
          "output_type": "stream",
          "name": "stdout",
          "text": [
            "Collecting JPype1\n",
            "  Downloading JPype1-1.5.0-cp310-cp310-manylinux_2_17_x86_64.manylinux2014_x86_64.whl (488 kB)\n",
            "\u001b[2K     \u001b[90m━━━━━━━━━━━━━━━━━━━━━━━━━━━━━━━━━━━━━━━━\u001b[0m \u001b[32m488.6/488.6 kB\u001b[0m \u001b[31m5.5 MB/s\u001b[0m eta \u001b[36m0:00:00\u001b[0m\n",
            "\u001b[?25hRequirement already satisfied: packaging in /usr/local/lib/python3.10/dist-packages (from JPype1) (23.2)\n",
            "Installing collected packages: JPype1\n",
            "Successfully installed JPype1-1.5.0\n"
          ]
        }
      ],
      "source": [
        "pip install JPype1 #Had some dependencies error while using tabula, these were related to JPype"
      ]
    },
    {
      "cell_type": "code",
      "execution_count": 5,
      "id": "f9d5068f",
      "metadata": {
        "id": "f9d5068f"
      },
      "outputs": [],
      "source": [
        "import pandas as pd   #Importing pandas to create dataframes and also importing read_pdf from tabula.\n",
        "from tabula import read_pdf"
      ]
    },
    {
      "cell_type": "markdown",
      "id": "47398190",
      "metadata": {
        "id": "47398190"
      },
      "source": [
        "### Creating dataframes/datasets using the libraries imported"
      ]
    },
    {
      "cell_type": "code",
      "execution_count": 6,
      "id": "dff24d21",
      "metadata": {
        "id": "dff24d21"
      },
      "outputs": [],
      "source": [
        "excel_df = pd.read_excel('bpp_churn_data.xlsx') #Converting the excel table in a dataframe\n",
        "pdf_df = read_pdf(\"bpp_churn_data.pdf\", pages = \"all\", multiple_tables=False)[0]\n",
        "\n"
      ]
    },
    {
      "cell_type": "code",
      "execution_count": 7,
      "id": "9fce7e73",
      "metadata": {
        "colab": {
          "base_uri": "https://localhost:8080/",
          "height": 617
        },
        "id": "9fce7e73",
        "outputId": "621e92c1-03aa-4728-ab2a-94d13112eb42"
      },
      "outputs": [
        {
          "output_type": "execute_result",
          "data": {
            "text/plain": [
              "    customerID  gender  SeniorCitizen Partner Dependents  tenure PhoneService  \\\n",
              "0   4067-HLYQI  Female              0      No         No      33          Yes   \n",
              "1   5124-EOGYE    Male              0      No         No      31          Yes   \n",
              "2   5057-RKGLH  Female              0     Yes        Yes       9          Yes   \n",
              "3   0292-WEGCH  Female              0     Yes        Yes      54          Yes   \n",
              "4   8910-ICHIU  Female              0      No         No      46          Yes   \n",
              "..         ...     ...            ...     ...        ...     ...          ...   \n",
              "85  7794-JASDG    Male              0      No         No       1          Yes   \n",
              "86  7609-YBPXG    Male              0      No         No      54          Yes   \n",
              "87  5519-TEEUH    Male              0      No        Yes      33          Yes   \n",
              "88  7856-GANIL    Male              1     Yes         No      45          Yes   \n",
              "89  0804-XBFBV  Female              0      No        Yes      11           No   \n",
              "\n",
              "       MultipleLines InternetService       OnlineSecurity  ...  \\\n",
              "0                 No     Fiber optic                   No  ...   \n",
              "1                 No              No  No internet service  ...   \n",
              "2                 No              No  No internet service  ...   \n",
              "3                Yes             DSL                   No  ...   \n",
              "4                 No     Fiber optic                  Yes  ...   \n",
              "..               ...             ...                  ...  ...   \n",
              "85                No             DSL                  Yes  ...   \n",
              "86               Yes             DSL                  Yes  ...   \n",
              "87                No              No  No internet service  ...   \n",
              "88               Yes     Fiber optic                   No  ...   \n",
              "89  No phone service             DSL                   No  ...   \n",
              "\n",
              "       DeviceProtection          TechSupport          StreamingTV  \\\n",
              "0                    No                   No                   No   \n",
              "1   No internet service  No internet service  No internet service   \n",
              "2   No internet service  No internet service  No internet service   \n",
              "3                   Yes                  Yes                  Yes   \n",
              "4                   Yes                   No                  Yes   \n",
              "..                  ...                  ...                  ...   \n",
              "85                   No                   No                   No   \n",
              "86                  Yes                  Yes                  Yes   \n",
              "87  No internet service  No internet service  No internet service   \n",
              "88                  Yes                  Yes                  Yes   \n",
              "89                   No                   No                   No   \n",
              "\n",
              "        StreamingMovies        Contract PaperlessBilling  \\\n",
              "0                    No  Month-to-month              Yes   \n",
              "1   No internet service        Two year               No   \n",
              "2   No internet service        Two year               No   \n",
              "3                   Yes  Month-to-month              Yes   \n",
              "4                    No        One year              Yes   \n",
              "..                  ...             ...              ...   \n",
              "85                   No  Month-to-month              Yes   \n",
              "86                  Yes        Two year               No   \n",
              "87  No internet service        One year              Yes   \n",
              "88                   No        One year              Yes   \n",
              "89                   No  Month-to-month               No   \n",
              "\n",
              "                PaymentMethod MonthlyCharges  TotalCharges  Churn  \n",
              "0   Bank transfer (automatic)          70.40       2406.10     No  \n",
              "1                Mailed check          20.45        638.55     No  \n",
              "2                Mailed check          20.35        191.10     No  \n",
              "3            Electronic check          86.20       4524.05     No  \n",
              "4     Credit card (automatic)          95.65       4664.20     No  \n",
              "..                        ...            ...           ...    ...  \n",
              "85               Mailed check          50.75         50.75     No  \n",
              "86  Bank transfer (automatic)          87.10       4735.20     No  \n",
              "87               Mailed check          20.15        682.15     No  \n",
              "88  Bank transfer (automatic)          98.70       4525.80     No  \n",
              "89           Electronic check          25.20        321.05     No  \n",
              "\n",
              "[90 rows x 21 columns]"
            ],
            "text/html": [
              "\n",
              "  <div id=\"df-cc264580-5e0c-4e90-bef2-d5de272bf211\" class=\"colab-df-container\">\n",
              "    <div>\n",
              "<style scoped>\n",
              "    .dataframe tbody tr th:only-of-type {\n",
              "        vertical-align: middle;\n",
              "    }\n",
              "\n",
              "    .dataframe tbody tr th {\n",
              "        vertical-align: top;\n",
              "    }\n",
              "\n",
              "    .dataframe thead th {\n",
              "        text-align: right;\n",
              "    }\n",
              "</style>\n",
              "<table border=\"1\" class=\"dataframe\">\n",
              "  <thead>\n",
              "    <tr style=\"text-align: right;\">\n",
              "      <th></th>\n",
              "      <th>customerID</th>\n",
              "      <th>gender</th>\n",
              "      <th>SeniorCitizen</th>\n",
              "      <th>Partner</th>\n",
              "      <th>Dependents</th>\n",
              "      <th>tenure</th>\n",
              "      <th>PhoneService</th>\n",
              "      <th>MultipleLines</th>\n",
              "      <th>InternetService</th>\n",
              "      <th>OnlineSecurity</th>\n",
              "      <th>...</th>\n",
              "      <th>DeviceProtection</th>\n",
              "      <th>TechSupport</th>\n",
              "      <th>StreamingTV</th>\n",
              "      <th>StreamingMovies</th>\n",
              "      <th>Contract</th>\n",
              "      <th>PaperlessBilling</th>\n",
              "      <th>PaymentMethod</th>\n",
              "      <th>MonthlyCharges</th>\n",
              "      <th>TotalCharges</th>\n",
              "      <th>Churn</th>\n",
              "    </tr>\n",
              "  </thead>\n",
              "  <tbody>\n",
              "    <tr>\n",
              "      <th>0</th>\n",
              "      <td>4067-HLYQI</td>\n",
              "      <td>Female</td>\n",
              "      <td>0</td>\n",
              "      <td>No</td>\n",
              "      <td>No</td>\n",
              "      <td>33</td>\n",
              "      <td>Yes</td>\n",
              "      <td>No</td>\n",
              "      <td>Fiber optic</td>\n",
              "      <td>No</td>\n",
              "      <td>...</td>\n",
              "      <td>No</td>\n",
              "      <td>No</td>\n",
              "      <td>No</td>\n",
              "      <td>No</td>\n",
              "      <td>Month-to-month</td>\n",
              "      <td>Yes</td>\n",
              "      <td>Bank transfer (automatic)</td>\n",
              "      <td>70.40</td>\n",
              "      <td>2406.10</td>\n",
              "      <td>No</td>\n",
              "    </tr>\n",
              "    <tr>\n",
              "      <th>1</th>\n",
              "      <td>5124-EOGYE</td>\n",
              "      <td>Male</td>\n",
              "      <td>0</td>\n",
              "      <td>No</td>\n",
              "      <td>No</td>\n",
              "      <td>31</td>\n",
              "      <td>Yes</td>\n",
              "      <td>No</td>\n",
              "      <td>No</td>\n",
              "      <td>No internet service</td>\n",
              "      <td>...</td>\n",
              "      <td>No internet service</td>\n",
              "      <td>No internet service</td>\n",
              "      <td>No internet service</td>\n",
              "      <td>No internet service</td>\n",
              "      <td>Two year</td>\n",
              "      <td>No</td>\n",
              "      <td>Mailed check</td>\n",
              "      <td>20.45</td>\n",
              "      <td>638.55</td>\n",
              "      <td>No</td>\n",
              "    </tr>\n",
              "    <tr>\n",
              "      <th>2</th>\n",
              "      <td>5057-RKGLH</td>\n",
              "      <td>Female</td>\n",
              "      <td>0</td>\n",
              "      <td>Yes</td>\n",
              "      <td>Yes</td>\n",
              "      <td>9</td>\n",
              "      <td>Yes</td>\n",
              "      <td>No</td>\n",
              "      <td>No</td>\n",
              "      <td>No internet service</td>\n",
              "      <td>...</td>\n",
              "      <td>No internet service</td>\n",
              "      <td>No internet service</td>\n",
              "      <td>No internet service</td>\n",
              "      <td>No internet service</td>\n",
              "      <td>Two year</td>\n",
              "      <td>No</td>\n",
              "      <td>Mailed check</td>\n",
              "      <td>20.35</td>\n",
              "      <td>191.10</td>\n",
              "      <td>No</td>\n",
              "    </tr>\n",
              "    <tr>\n",
              "      <th>3</th>\n",
              "      <td>0292-WEGCH</td>\n",
              "      <td>Female</td>\n",
              "      <td>0</td>\n",
              "      <td>Yes</td>\n",
              "      <td>Yes</td>\n",
              "      <td>54</td>\n",
              "      <td>Yes</td>\n",
              "      <td>Yes</td>\n",
              "      <td>DSL</td>\n",
              "      <td>No</td>\n",
              "      <td>...</td>\n",
              "      <td>Yes</td>\n",
              "      <td>Yes</td>\n",
              "      <td>Yes</td>\n",
              "      <td>Yes</td>\n",
              "      <td>Month-to-month</td>\n",
              "      <td>Yes</td>\n",
              "      <td>Electronic check</td>\n",
              "      <td>86.20</td>\n",
              "      <td>4524.05</td>\n",
              "      <td>No</td>\n",
              "    </tr>\n",
              "    <tr>\n",
              "      <th>4</th>\n",
              "      <td>8910-ICHIU</td>\n",
              "      <td>Female</td>\n",
              "      <td>0</td>\n",
              "      <td>No</td>\n",
              "      <td>No</td>\n",
              "      <td>46</td>\n",
              "      <td>Yes</td>\n",
              "      <td>No</td>\n",
              "      <td>Fiber optic</td>\n",
              "      <td>Yes</td>\n",
              "      <td>...</td>\n",
              "      <td>Yes</td>\n",
              "      <td>No</td>\n",
              "      <td>Yes</td>\n",
              "      <td>No</td>\n",
              "      <td>One year</td>\n",
              "      <td>Yes</td>\n",
              "      <td>Credit card (automatic)</td>\n",
              "      <td>95.65</td>\n",
              "      <td>4664.20</td>\n",
              "      <td>No</td>\n",
              "    </tr>\n",
              "    <tr>\n",
              "      <th>...</th>\n",
              "      <td>...</td>\n",
              "      <td>...</td>\n",
              "      <td>...</td>\n",
              "      <td>...</td>\n",
              "      <td>...</td>\n",
              "      <td>...</td>\n",
              "      <td>...</td>\n",
              "      <td>...</td>\n",
              "      <td>...</td>\n",
              "      <td>...</td>\n",
              "      <td>...</td>\n",
              "      <td>...</td>\n",
              "      <td>...</td>\n",
              "      <td>...</td>\n",
              "      <td>...</td>\n",
              "      <td>...</td>\n",
              "      <td>...</td>\n",
              "      <td>...</td>\n",
              "      <td>...</td>\n",
              "      <td>...</td>\n",
              "      <td>...</td>\n",
              "    </tr>\n",
              "    <tr>\n",
              "      <th>85</th>\n",
              "      <td>7794-JASDG</td>\n",
              "      <td>Male</td>\n",
              "      <td>0</td>\n",
              "      <td>No</td>\n",
              "      <td>No</td>\n",
              "      <td>1</td>\n",
              "      <td>Yes</td>\n",
              "      <td>No</td>\n",
              "      <td>DSL</td>\n",
              "      <td>Yes</td>\n",
              "      <td>...</td>\n",
              "      <td>No</td>\n",
              "      <td>No</td>\n",
              "      <td>No</td>\n",
              "      <td>No</td>\n",
              "      <td>Month-to-month</td>\n",
              "      <td>Yes</td>\n",
              "      <td>Mailed check</td>\n",
              "      <td>50.75</td>\n",
              "      <td>50.75</td>\n",
              "      <td>No</td>\n",
              "    </tr>\n",
              "    <tr>\n",
              "      <th>86</th>\n",
              "      <td>7609-YBPXG</td>\n",
              "      <td>Male</td>\n",
              "      <td>0</td>\n",
              "      <td>No</td>\n",
              "      <td>No</td>\n",
              "      <td>54</td>\n",
              "      <td>Yes</td>\n",
              "      <td>Yes</td>\n",
              "      <td>DSL</td>\n",
              "      <td>Yes</td>\n",
              "      <td>...</td>\n",
              "      <td>Yes</td>\n",
              "      <td>Yes</td>\n",
              "      <td>Yes</td>\n",
              "      <td>Yes</td>\n",
              "      <td>Two year</td>\n",
              "      <td>No</td>\n",
              "      <td>Bank transfer (automatic)</td>\n",
              "      <td>87.10</td>\n",
              "      <td>4735.20</td>\n",
              "      <td>No</td>\n",
              "    </tr>\n",
              "    <tr>\n",
              "      <th>87</th>\n",
              "      <td>5519-TEEUH</td>\n",
              "      <td>Male</td>\n",
              "      <td>0</td>\n",
              "      <td>No</td>\n",
              "      <td>Yes</td>\n",
              "      <td>33</td>\n",
              "      <td>Yes</td>\n",
              "      <td>No</td>\n",
              "      <td>No</td>\n",
              "      <td>No internet service</td>\n",
              "      <td>...</td>\n",
              "      <td>No internet service</td>\n",
              "      <td>No internet service</td>\n",
              "      <td>No internet service</td>\n",
              "      <td>No internet service</td>\n",
              "      <td>One year</td>\n",
              "      <td>Yes</td>\n",
              "      <td>Mailed check</td>\n",
              "      <td>20.15</td>\n",
              "      <td>682.15</td>\n",
              "      <td>No</td>\n",
              "    </tr>\n",
              "    <tr>\n",
              "      <th>88</th>\n",
              "      <td>7856-GANIL</td>\n",
              "      <td>Male</td>\n",
              "      <td>1</td>\n",
              "      <td>Yes</td>\n",
              "      <td>No</td>\n",
              "      <td>45</td>\n",
              "      <td>Yes</td>\n",
              "      <td>Yes</td>\n",
              "      <td>Fiber optic</td>\n",
              "      <td>No</td>\n",
              "      <td>...</td>\n",
              "      <td>Yes</td>\n",
              "      <td>Yes</td>\n",
              "      <td>Yes</td>\n",
              "      <td>No</td>\n",
              "      <td>One year</td>\n",
              "      <td>Yes</td>\n",
              "      <td>Bank transfer (automatic)</td>\n",
              "      <td>98.70</td>\n",
              "      <td>4525.80</td>\n",
              "      <td>No</td>\n",
              "    </tr>\n",
              "    <tr>\n",
              "      <th>89</th>\n",
              "      <td>0804-XBFBV</td>\n",
              "      <td>Female</td>\n",
              "      <td>0</td>\n",
              "      <td>No</td>\n",
              "      <td>Yes</td>\n",
              "      <td>11</td>\n",
              "      <td>No</td>\n",
              "      <td>No phone service</td>\n",
              "      <td>DSL</td>\n",
              "      <td>No</td>\n",
              "      <td>...</td>\n",
              "      <td>No</td>\n",
              "      <td>No</td>\n",
              "      <td>No</td>\n",
              "      <td>No</td>\n",
              "      <td>Month-to-month</td>\n",
              "      <td>No</td>\n",
              "      <td>Electronic check</td>\n",
              "      <td>25.20</td>\n",
              "      <td>321.05</td>\n",
              "      <td>No</td>\n",
              "    </tr>\n",
              "  </tbody>\n",
              "</table>\n",
              "<p>90 rows × 21 columns</p>\n",
              "</div>\n",
              "    <div class=\"colab-df-buttons\">\n",
              "\n",
              "  <div class=\"colab-df-container\">\n",
              "    <button class=\"colab-df-convert\" onclick=\"convertToInteractive('df-cc264580-5e0c-4e90-bef2-d5de272bf211')\"\n",
              "            title=\"Convert this dataframe to an interactive table.\"\n",
              "            style=\"display:none;\">\n",
              "\n",
              "  <svg xmlns=\"http://www.w3.org/2000/svg\" height=\"24px\" viewBox=\"0 -960 960 960\">\n",
              "    <path d=\"M120-120v-720h720v720H120Zm60-500h600v-160H180v160Zm220 220h160v-160H400v160Zm0 220h160v-160H400v160ZM180-400h160v-160H180v160Zm440 0h160v-160H620v160ZM180-180h160v-160H180v160Zm440 0h160v-160H620v160Z\"/>\n",
              "  </svg>\n",
              "    </button>\n",
              "\n",
              "  <style>\n",
              "    .colab-df-container {\n",
              "      display:flex;\n",
              "      gap: 12px;\n",
              "    }\n",
              "\n",
              "    .colab-df-convert {\n",
              "      background-color: #E8F0FE;\n",
              "      border: none;\n",
              "      border-radius: 50%;\n",
              "      cursor: pointer;\n",
              "      display: none;\n",
              "      fill: #1967D2;\n",
              "      height: 32px;\n",
              "      padding: 0 0 0 0;\n",
              "      width: 32px;\n",
              "    }\n",
              "\n",
              "    .colab-df-convert:hover {\n",
              "      background-color: #E2EBFA;\n",
              "      box-shadow: 0px 1px 2px rgba(60, 64, 67, 0.3), 0px 1px 3px 1px rgba(60, 64, 67, 0.15);\n",
              "      fill: #174EA6;\n",
              "    }\n",
              "\n",
              "    .colab-df-buttons div {\n",
              "      margin-bottom: 4px;\n",
              "    }\n",
              "\n",
              "    [theme=dark] .colab-df-convert {\n",
              "      background-color: #3B4455;\n",
              "      fill: #D2E3FC;\n",
              "    }\n",
              "\n",
              "    [theme=dark] .colab-df-convert:hover {\n",
              "      background-color: #434B5C;\n",
              "      box-shadow: 0px 1px 3px 1px rgba(0, 0, 0, 0.15);\n",
              "      filter: drop-shadow(0px 1px 2px rgba(0, 0, 0, 0.3));\n",
              "      fill: #FFFFFF;\n",
              "    }\n",
              "  </style>\n",
              "\n",
              "    <script>\n",
              "      const buttonEl =\n",
              "        document.querySelector('#df-cc264580-5e0c-4e90-bef2-d5de272bf211 button.colab-df-convert');\n",
              "      buttonEl.style.display =\n",
              "        google.colab.kernel.accessAllowed ? 'block' : 'none';\n",
              "\n",
              "      async function convertToInteractive(key) {\n",
              "        const element = document.querySelector('#df-cc264580-5e0c-4e90-bef2-d5de272bf211');\n",
              "        const dataTable =\n",
              "          await google.colab.kernel.invokeFunction('convertToInteractive',\n",
              "                                                    [key], {});\n",
              "        if (!dataTable) return;\n",
              "\n",
              "        const docLinkHtml = 'Like what you see? Visit the ' +\n",
              "          '<a target=\"_blank\" href=https://colab.research.google.com/notebooks/data_table.ipynb>data table notebook</a>'\n",
              "          + ' to learn more about interactive tables.';\n",
              "        element.innerHTML = '';\n",
              "        dataTable['output_type'] = 'display_data';\n",
              "        await google.colab.output.renderOutput(dataTable, element);\n",
              "        const docLink = document.createElement('div');\n",
              "        docLink.innerHTML = docLinkHtml;\n",
              "        element.appendChild(docLink);\n",
              "      }\n",
              "    </script>\n",
              "  </div>\n",
              "\n",
              "\n",
              "<div id=\"df-03bb4590-f3a0-4570-89c6-fa73b92f44ee\">\n",
              "  <button class=\"colab-df-quickchart\" onclick=\"quickchart('df-03bb4590-f3a0-4570-89c6-fa73b92f44ee')\"\n",
              "            title=\"Suggest charts\"\n",
              "            style=\"display:none;\">\n",
              "\n",
              "<svg xmlns=\"http://www.w3.org/2000/svg\" height=\"24px\"viewBox=\"0 0 24 24\"\n",
              "     width=\"24px\">\n",
              "    <g>\n",
              "        <path d=\"M19 3H5c-1.1 0-2 .9-2 2v14c0 1.1.9 2 2 2h14c1.1 0 2-.9 2-2V5c0-1.1-.9-2-2-2zM9 17H7v-7h2v7zm4 0h-2V7h2v10zm4 0h-2v-4h2v4z\"/>\n",
              "    </g>\n",
              "</svg>\n",
              "  </button>\n",
              "\n",
              "<style>\n",
              "  .colab-df-quickchart {\n",
              "      --bg-color: #E8F0FE;\n",
              "      --fill-color: #1967D2;\n",
              "      --hover-bg-color: #E2EBFA;\n",
              "      --hover-fill-color: #174EA6;\n",
              "      --disabled-fill-color: #AAA;\n",
              "      --disabled-bg-color: #DDD;\n",
              "  }\n",
              "\n",
              "  [theme=dark] .colab-df-quickchart {\n",
              "      --bg-color: #3B4455;\n",
              "      --fill-color: #D2E3FC;\n",
              "      --hover-bg-color: #434B5C;\n",
              "      --hover-fill-color: #FFFFFF;\n",
              "      --disabled-bg-color: #3B4455;\n",
              "      --disabled-fill-color: #666;\n",
              "  }\n",
              "\n",
              "  .colab-df-quickchart {\n",
              "    background-color: var(--bg-color);\n",
              "    border: none;\n",
              "    border-radius: 50%;\n",
              "    cursor: pointer;\n",
              "    display: none;\n",
              "    fill: var(--fill-color);\n",
              "    height: 32px;\n",
              "    padding: 0;\n",
              "    width: 32px;\n",
              "  }\n",
              "\n",
              "  .colab-df-quickchart:hover {\n",
              "    background-color: var(--hover-bg-color);\n",
              "    box-shadow: 0 1px 2px rgba(60, 64, 67, 0.3), 0 1px 3px 1px rgba(60, 64, 67, 0.15);\n",
              "    fill: var(--button-hover-fill-color);\n",
              "  }\n",
              "\n",
              "  .colab-df-quickchart-complete:disabled,\n",
              "  .colab-df-quickchart-complete:disabled:hover {\n",
              "    background-color: var(--disabled-bg-color);\n",
              "    fill: var(--disabled-fill-color);\n",
              "    box-shadow: none;\n",
              "  }\n",
              "\n",
              "  .colab-df-spinner {\n",
              "    border: 2px solid var(--fill-color);\n",
              "    border-color: transparent;\n",
              "    border-bottom-color: var(--fill-color);\n",
              "    animation:\n",
              "      spin 1s steps(1) infinite;\n",
              "  }\n",
              "\n",
              "  @keyframes spin {\n",
              "    0% {\n",
              "      border-color: transparent;\n",
              "      border-bottom-color: var(--fill-color);\n",
              "      border-left-color: var(--fill-color);\n",
              "    }\n",
              "    20% {\n",
              "      border-color: transparent;\n",
              "      border-left-color: var(--fill-color);\n",
              "      border-top-color: var(--fill-color);\n",
              "    }\n",
              "    30% {\n",
              "      border-color: transparent;\n",
              "      border-left-color: var(--fill-color);\n",
              "      border-top-color: var(--fill-color);\n",
              "      border-right-color: var(--fill-color);\n",
              "    }\n",
              "    40% {\n",
              "      border-color: transparent;\n",
              "      border-right-color: var(--fill-color);\n",
              "      border-top-color: var(--fill-color);\n",
              "    }\n",
              "    60% {\n",
              "      border-color: transparent;\n",
              "      border-right-color: var(--fill-color);\n",
              "    }\n",
              "    80% {\n",
              "      border-color: transparent;\n",
              "      border-right-color: var(--fill-color);\n",
              "      border-bottom-color: var(--fill-color);\n",
              "    }\n",
              "    90% {\n",
              "      border-color: transparent;\n",
              "      border-bottom-color: var(--fill-color);\n",
              "    }\n",
              "  }\n",
              "</style>\n",
              "\n",
              "  <script>\n",
              "    async function quickchart(key) {\n",
              "      const quickchartButtonEl =\n",
              "        document.querySelector('#' + key + ' button');\n",
              "      quickchartButtonEl.disabled = true;  // To prevent multiple clicks.\n",
              "      quickchartButtonEl.classList.add('colab-df-spinner');\n",
              "      try {\n",
              "        const charts = await google.colab.kernel.invokeFunction(\n",
              "            'suggestCharts', [key], {});\n",
              "      } catch (error) {\n",
              "        console.error('Error during call to suggestCharts:', error);\n",
              "      }\n",
              "      quickchartButtonEl.classList.remove('colab-df-spinner');\n",
              "      quickchartButtonEl.classList.add('colab-df-quickchart-complete');\n",
              "    }\n",
              "    (() => {\n",
              "      let quickchartButtonEl =\n",
              "        document.querySelector('#df-03bb4590-f3a0-4570-89c6-fa73b92f44ee button');\n",
              "      quickchartButtonEl.style.display =\n",
              "        google.colab.kernel.accessAllowed ? 'block' : 'none';\n",
              "    })();\n",
              "  </script>\n",
              "</div>\n",
              "\n",
              "    </div>\n",
              "  </div>\n"
            ]
          },
          "metadata": {},
          "execution_count": 7
        }
      ],
      "source": [
        "pdf_df.head(90) #Printing few rows of the table to check if the dataframes have been made successfully."
      ]
    },
    {
      "cell_type": "code",
      "execution_count": 8,
      "id": "8d7f39c0",
      "metadata": {
        "collapsed": true,
        "colab": {
          "base_uri": "https://localhost:8080/",
          "height": 342
        },
        "id": "8d7f39c0",
        "outputId": "eb90a0b3-0ae6-4ee4-ebd2-ce28ef811bc2"
      },
      "outputs": [
        {
          "output_type": "execute_result",
          "data": {
            "text/plain": [
              "   customerID  gender  SeniorCitizen Partner Dependents  tenure PhoneService  \\\n",
              "0  4374-YMUSQ    Male              0      No         No      34          Yes   \n",
              "1  4513-CXYIX  Female              1     Yes         No      71          Yes   \n",
              "2  3957-HHLMR  Female              0     Yes        Yes      70          Yes   \n",
              "3  7803-XOCCZ  Female              0     Yes        Yes      52          Yes   \n",
              "4  5736-YEJAX    Male              0      No        Yes      69          Yes   \n",
              "\n",
              "  MultipleLines InternetService OnlineSecurity  ... DeviceProtection  \\\n",
              "0           Yes     Fiber optic            Yes  ...              Yes   \n",
              "1           Yes     Fiber optic            Yes  ...               No   \n",
              "2           Yes             DSL            Yes  ...               No   \n",
              "3            No     Fiber optic            Yes  ...              Yes   \n",
              "4           Yes             DSL            Yes  ...              Yes   \n",
              "\n",
              "  TechSupport StreamingTV StreamingMovies        Contract PaperlessBilling  \\\n",
              "0         Yes         Yes             Yes        One year               No   \n",
              "1          No          No              No        Two year              Yes   \n",
              "2          No          No             Yes        One year               No   \n",
              "3         Yes          No              No  Month-to-month              Yes   \n",
              "4         Yes         Yes              No        Two year              Yes   \n",
              "\n",
              "               PaymentMethod MonthlyCharges  TotalCharges Churn  \n",
              "0    Credit card (automatic)         116.25       3899.05    No  \n",
              "1    Credit card (automatic)          80.70          5676    No  \n",
              "2  Bank transfer (automatic)          65.20       4543.15    No  \n",
              "3  Bank transfer (automatic)          84.05        4326.8    No  \n",
              "4    Credit card (automatic)          79.45       5502.55    No  \n",
              "\n",
              "[5 rows x 21 columns]"
            ],
            "text/html": [
              "\n",
              "  <div id=\"df-923a33c0-471f-428d-a160-5b744dd1721d\" class=\"colab-df-container\">\n",
              "    <div>\n",
              "<style scoped>\n",
              "    .dataframe tbody tr th:only-of-type {\n",
              "        vertical-align: middle;\n",
              "    }\n",
              "\n",
              "    .dataframe tbody tr th {\n",
              "        vertical-align: top;\n",
              "    }\n",
              "\n",
              "    .dataframe thead th {\n",
              "        text-align: right;\n",
              "    }\n",
              "</style>\n",
              "<table border=\"1\" class=\"dataframe\">\n",
              "  <thead>\n",
              "    <tr style=\"text-align: right;\">\n",
              "      <th></th>\n",
              "      <th>customerID</th>\n",
              "      <th>gender</th>\n",
              "      <th>SeniorCitizen</th>\n",
              "      <th>Partner</th>\n",
              "      <th>Dependents</th>\n",
              "      <th>tenure</th>\n",
              "      <th>PhoneService</th>\n",
              "      <th>MultipleLines</th>\n",
              "      <th>InternetService</th>\n",
              "      <th>OnlineSecurity</th>\n",
              "      <th>...</th>\n",
              "      <th>DeviceProtection</th>\n",
              "      <th>TechSupport</th>\n",
              "      <th>StreamingTV</th>\n",
              "      <th>StreamingMovies</th>\n",
              "      <th>Contract</th>\n",
              "      <th>PaperlessBilling</th>\n",
              "      <th>PaymentMethod</th>\n",
              "      <th>MonthlyCharges</th>\n",
              "      <th>TotalCharges</th>\n",
              "      <th>Churn</th>\n",
              "    </tr>\n",
              "  </thead>\n",
              "  <tbody>\n",
              "    <tr>\n",
              "      <th>0</th>\n",
              "      <td>4374-YMUSQ</td>\n",
              "      <td>Male</td>\n",
              "      <td>0</td>\n",
              "      <td>No</td>\n",
              "      <td>No</td>\n",
              "      <td>34</td>\n",
              "      <td>Yes</td>\n",
              "      <td>Yes</td>\n",
              "      <td>Fiber optic</td>\n",
              "      <td>Yes</td>\n",
              "      <td>...</td>\n",
              "      <td>Yes</td>\n",
              "      <td>Yes</td>\n",
              "      <td>Yes</td>\n",
              "      <td>Yes</td>\n",
              "      <td>One year</td>\n",
              "      <td>No</td>\n",
              "      <td>Credit card (automatic)</td>\n",
              "      <td>116.25</td>\n",
              "      <td>3899.05</td>\n",
              "      <td>No</td>\n",
              "    </tr>\n",
              "    <tr>\n",
              "      <th>1</th>\n",
              "      <td>4513-CXYIX</td>\n",
              "      <td>Female</td>\n",
              "      <td>1</td>\n",
              "      <td>Yes</td>\n",
              "      <td>No</td>\n",
              "      <td>71</td>\n",
              "      <td>Yes</td>\n",
              "      <td>Yes</td>\n",
              "      <td>Fiber optic</td>\n",
              "      <td>Yes</td>\n",
              "      <td>...</td>\n",
              "      <td>No</td>\n",
              "      <td>No</td>\n",
              "      <td>No</td>\n",
              "      <td>No</td>\n",
              "      <td>Two year</td>\n",
              "      <td>Yes</td>\n",
              "      <td>Credit card (automatic)</td>\n",
              "      <td>80.70</td>\n",
              "      <td>5676</td>\n",
              "      <td>No</td>\n",
              "    </tr>\n",
              "    <tr>\n",
              "      <th>2</th>\n",
              "      <td>3957-HHLMR</td>\n",
              "      <td>Female</td>\n",
              "      <td>0</td>\n",
              "      <td>Yes</td>\n",
              "      <td>Yes</td>\n",
              "      <td>70</td>\n",
              "      <td>Yes</td>\n",
              "      <td>Yes</td>\n",
              "      <td>DSL</td>\n",
              "      <td>Yes</td>\n",
              "      <td>...</td>\n",
              "      <td>No</td>\n",
              "      <td>No</td>\n",
              "      <td>No</td>\n",
              "      <td>Yes</td>\n",
              "      <td>One year</td>\n",
              "      <td>No</td>\n",
              "      <td>Bank transfer (automatic)</td>\n",
              "      <td>65.20</td>\n",
              "      <td>4543.15</td>\n",
              "      <td>No</td>\n",
              "    </tr>\n",
              "    <tr>\n",
              "      <th>3</th>\n",
              "      <td>7803-XOCCZ</td>\n",
              "      <td>Female</td>\n",
              "      <td>0</td>\n",
              "      <td>Yes</td>\n",
              "      <td>Yes</td>\n",
              "      <td>52</td>\n",
              "      <td>Yes</td>\n",
              "      <td>No</td>\n",
              "      <td>Fiber optic</td>\n",
              "      <td>Yes</td>\n",
              "      <td>...</td>\n",
              "      <td>Yes</td>\n",
              "      <td>Yes</td>\n",
              "      <td>No</td>\n",
              "      <td>No</td>\n",
              "      <td>Month-to-month</td>\n",
              "      <td>Yes</td>\n",
              "      <td>Bank transfer (automatic)</td>\n",
              "      <td>84.05</td>\n",
              "      <td>4326.8</td>\n",
              "      <td>No</td>\n",
              "    </tr>\n",
              "    <tr>\n",
              "      <th>4</th>\n",
              "      <td>5736-YEJAX</td>\n",
              "      <td>Male</td>\n",
              "      <td>0</td>\n",
              "      <td>No</td>\n",
              "      <td>Yes</td>\n",
              "      <td>69</td>\n",
              "      <td>Yes</td>\n",
              "      <td>Yes</td>\n",
              "      <td>DSL</td>\n",
              "      <td>Yes</td>\n",
              "      <td>...</td>\n",
              "      <td>Yes</td>\n",
              "      <td>Yes</td>\n",
              "      <td>Yes</td>\n",
              "      <td>No</td>\n",
              "      <td>Two year</td>\n",
              "      <td>Yes</td>\n",
              "      <td>Credit card (automatic)</td>\n",
              "      <td>79.45</td>\n",
              "      <td>5502.55</td>\n",
              "      <td>No</td>\n",
              "    </tr>\n",
              "  </tbody>\n",
              "</table>\n",
              "<p>5 rows × 21 columns</p>\n",
              "</div>\n",
              "    <div class=\"colab-df-buttons\">\n",
              "\n",
              "  <div class=\"colab-df-container\">\n",
              "    <button class=\"colab-df-convert\" onclick=\"convertToInteractive('df-923a33c0-471f-428d-a160-5b744dd1721d')\"\n",
              "            title=\"Convert this dataframe to an interactive table.\"\n",
              "            style=\"display:none;\">\n",
              "\n",
              "  <svg xmlns=\"http://www.w3.org/2000/svg\" height=\"24px\" viewBox=\"0 -960 960 960\">\n",
              "    <path d=\"M120-120v-720h720v720H120Zm60-500h600v-160H180v160Zm220 220h160v-160H400v160Zm0 220h160v-160H400v160ZM180-400h160v-160H180v160Zm440 0h160v-160H620v160ZM180-180h160v-160H180v160Zm440 0h160v-160H620v160Z\"/>\n",
              "  </svg>\n",
              "    </button>\n",
              "\n",
              "  <style>\n",
              "    .colab-df-container {\n",
              "      display:flex;\n",
              "      gap: 12px;\n",
              "    }\n",
              "\n",
              "    .colab-df-convert {\n",
              "      background-color: #E8F0FE;\n",
              "      border: none;\n",
              "      border-radius: 50%;\n",
              "      cursor: pointer;\n",
              "      display: none;\n",
              "      fill: #1967D2;\n",
              "      height: 32px;\n",
              "      padding: 0 0 0 0;\n",
              "      width: 32px;\n",
              "    }\n",
              "\n",
              "    .colab-df-convert:hover {\n",
              "      background-color: #E2EBFA;\n",
              "      box-shadow: 0px 1px 2px rgba(60, 64, 67, 0.3), 0px 1px 3px 1px rgba(60, 64, 67, 0.15);\n",
              "      fill: #174EA6;\n",
              "    }\n",
              "\n",
              "    .colab-df-buttons div {\n",
              "      margin-bottom: 4px;\n",
              "    }\n",
              "\n",
              "    [theme=dark] .colab-df-convert {\n",
              "      background-color: #3B4455;\n",
              "      fill: #D2E3FC;\n",
              "    }\n",
              "\n",
              "    [theme=dark] .colab-df-convert:hover {\n",
              "      background-color: #434B5C;\n",
              "      box-shadow: 0px 1px 3px 1px rgba(0, 0, 0, 0.15);\n",
              "      filter: drop-shadow(0px 1px 2px rgba(0, 0, 0, 0.3));\n",
              "      fill: #FFFFFF;\n",
              "    }\n",
              "  </style>\n",
              "\n",
              "    <script>\n",
              "      const buttonEl =\n",
              "        document.querySelector('#df-923a33c0-471f-428d-a160-5b744dd1721d button.colab-df-convert');\n",
              "      buttonEl.style.display =\n",
              "        google.colab.kernel.accessAllowed ? 'block' : 'none';\n",
              "\n",
              "      async function convertToInteractive(key) {\n",
              "        const element = document.querySelector('#df-923a33c0-471f-428d-a160-5b744dd1721d');\n",
              "        const dataTable =\n",
              "          await google.colab.kernel.invokeFunction('convertToInteractive',\n",
              "                                                    [key], {});\n",
              "        if (!dataTable) return;\n",
              "\n",
              "        const docLinkHtml = 'Like what you see? Visit the ' +\n",
              "          '<a target=\"_blank\" href=https://colab.research.google.com/notebooks/data_table.ipynb>data table notebook</a>'\n",
              "          + ' to learn more about interactive tables.';\n",
              "        element.innerHTML = '';\n",
              "        dataTable['output_type'] = 'display_data';\n",
              "        await google.colab.output.renderOutput(dataTable, element);\n",
              "        const docLink = document.createElement('div');\n",
              "        docLink.innerHTML = docLinkHtml;\n",
              "        element.appendChild(docLink);\n",
              "      }\n",
              "    </script>\n",
              "  </div>\n",
              "\n",
              "\n",
              "<div id=\"df-35e20f85-a5a6-42e2-9265-86f286d85571\">\n",
              "  <button class=\"colab-df-quickchart\" onclick=\"quickchart('df-35e20f85-a5a6-42e2-9265-86f286d85571')\"\n",
              "            title=\"Suggest charts\"\n",
              "            style=\"display:none;\">\n",
              "\n",
              "<svg xmlns=\"http://www.w3.org/2000/svg\" height=\"24px\"viewBox=\"0 0 24 24\"\n",
              "     width=\"24px\">\n",
              "    <g>\n",
              "        <path d=\"M19 3H5c-1.1 0-2 .9-2 2v14c0 1.1.9 2 2 2h14c1.1 0 2-.9 2-2V5c0-1.1-.9-2-2-2zM9 17H7v-7h2v7zm4 0h-2V7h2v10zm4 0h-2v-4h2v4z\"/>\n",
              "    </g>\n",
              "</svg>\n",
              "  </button>\n",
              "\n",
              "<style>\n",
              "  .colab-df-quickchart {\n",
              "      --bg-color: #E8F0FE;\n",
              "      --fill-color: #1967D2;\n",
              "      --hover-bg-color: #E2EBFA;\n",
              "      --hover-fill-color: #174EA6;\n",
              "      --disabled-fill-color: #AAA;\n",
              "      --disabled-bg-color: #DDD;\n",
              "  }\n",
              "\n",
              "  [theme=dark] .colab-df-quickchart {\n",
              "      --bg-color: #3B4455;\n",
              "      --fill-color: #D2E3FC;\n",
              "      --hover-bg-color: #434B5C;\n",
              "      --hover-fill-color: #FFFFFF;\n",
              "      --disabled-bg-color: #3B4455;\n",
              "      --disabled-fill-color: #666;\n",
              "  }\n",
              "\n",
              "  .colab-df-quickchart {\n",
              "    background-color: var(--bg-color);\n",
              "    border: none;\n",
              "    border-radius: 50%;\n",
              "    cursor: pointer;\n",
              "    display: none;\n",
              "    fill: var(--fill-color);\n",
              "    height: 32px;\n",
              "    padding: 0;\n",
              "    width: 32px;\n",
              "  }\n",
              "\n",
              "  .colab-df-quickchart:hover {\n",
              "    background-color: var(--hover-bg-color);\n",
              "    box-shadow: 0 1px 2px rgba(60, 64, 67, 0.3), 0 1px 3px 1px rgba(60, 64, 67, 0.15);\n",
              "    fill: var(--button-hover-fill-color);\n",
              "  }\n",
              "\n",
              "  .colab-df-quickchart-complete:disabled,\n",
              "  .colab-df-quickchart-complete:disabled:hover {\n",
              "    background-color: var(--disabled-bg-color);\n",
              "    fill: var(--disabled-fill-color);\n",
              "    box-shadow: none;\n",
              "  }\n",
              "\n",
              "  .colab-df-spinner {\n",
              "    border: 2px solid var(--fill-color);\n",
              "    border-color: transparent;\n",
              "    border-bottom-color: var(--fill-color);\n",
              "    animation:\n",
              "      spin 1s steps(1) infinite;\n",
              "  }\n",
              "\n",
              "  @keyframes spin {\n",
              "    0% {\n",
              "      border-color: transparent;\n",
              "      border-bottom-color: var(--fill-color);\n",
              "      border-left-color: var(--fill-color);\n",
              "    }\n",
              "    20% {\n",
              "      border-color: transparent;\n",
              "      border-left-color: var(--fill-color);\n",
              "      border-top-color: var(--fill-color);\n",
              "    }\n",
              "    30% {\n",
              "      border-color: transparent;\n",
              "      border-left-color: var(--fill-color);\n",
              "      border-top-color: var(--fill-color);\n",
              "      border-right-color: var(--fill-color);\n",
              "    }\n",
              "    40% {\n",
              "      border-color: transparent;\n",
              "      border-right-color: var(--fill-color);\n",
              "      border-top-color: var(--fill-color);\n",
              "    }\n",
              "    60% {\n",
              "      border-color: transparent;\n",
              "      border-right-color: var(--fill-color);\n",
              "    }\n",
              "    80% {\n",
              "      border-color: transparent;\n",
              "      border-right-color: var(--fill-color);\n",
              "      border-bottom-color: var(--fill-color);\n",
              "    }\n",
              "    90% {\n",
              "      border-color: transparent;\n",
              "      border-bottom-color: var(--fill-color);\n",
              "    }\n",
              "  }\n",
              "</style>\n",
              "\n",
              "  <script>\n",
              "    async function quickchart(key) {\n",
              "      const quickchartButtonEl =\n",
              "        document.querySelector('#' + key + ' button');\n",
              "      quickchartButtonEl.disabled = true;  // To prevent multiple clicks.\n",
              "      quickchartButtonEl.classList.add('colab-df-spinner');\n",
              "      try {\n",
              "        const charts = await google.colab.kernel.invokeFunction(\n",
              "            'suggestCharts', [key], {});\n",
              "      } catch (error) {\n",
              "        console.error('Error during call to suggestCharts:', error);\n",
              "      }\n",
              "      quickchartButtonEl.classList.remove('colab-df-spinner');\n",
              "      quickchartButtonEl.classList.add('colab-df-quickchart-complete');\n",
              "    }\n",
              "    (() => {\n",
              "      let quickchartButtonEl =\n",
              "        document.querySelector('#df-35e20f85-a5a6-42e2-9265-86f286d85571 button');\n",
              "      quickchartButtonEl.style.display =\n",
              "        google.colab.kernel.accessAllowed ? 'block' : 'none';\n",
              "    })();\n",
              "  </script>\n",
              "</div>\n",
              "\n",
              "    </div>\n",
              "  </div>\n"
            ]
          },
          "metadata": {},
          "execution_count": 8
        }
      ],
      "source": [
        "excel_df.head()"
      ]
    },
    {
      "cell_type": "markdown",
      "id": "2fa17fa9",
      "metadata": {
        "id": "2fa17fa9"
      },
      "source": [
        "### Merging the datasets from xlsx file and the pdf file."
      ]
    },
    {
      "cell_type": "code",
      "execution_count": 9,
      "id": "e3647d26",
      "metadata": {
        "id": "e3647d26"
      },
      "outputs": [],
      "source": [
        "#Performing an inner merge to see if both our datasets have any common rows\n",
        "merged_inner = pd.merge(excel_df, pdf_df, on='customerID', how='inner')"
      ]
    },
    {
      "cell_type": "code",
      "execution_count": 10,
      "id": "be9c1d0b",
      "metadata": {
        "collapsed": true,
        "colab": {
          "base_uri": "https://localhost:8080/",
          "height": 99
        },
        "id": "be9c1d0b",
        "outputId": "9dcb5d56-378c-4cde-bd77-a400df81aecd"
      },
      "outputs": [
        {
          "output_type": "execute_result",
          "data": {
            "text/plain": [
              "Empty DataFrame\n",
              "Columns: [customerID, gender_x, SeniorCitizen_x, Partner_x, Dependents_x, tenure_x, PhoneService_x, MultipleLines_x, InternetService_x, OnlineSecurity_x, OnlineBackup_x, DeviceProtection_x, TechSupport_x, StreamingTV_x, StreamingMovies_x, Contract_x, PaperlessBilling_x, PaymentMethod_x, MonthlyCharges_x, TotalCharges_x, Churn_x, gender_y, SeniorCitizen_y, Partner_y, Dependents_y, tenure_y, PhoneService_y, MultipleLines_y, InternetService_y, OnlineSecurity_y, OnlineBackup_y, DeviceProtection_y, TechSupport_y, StreamingTV_y, StreamingMovies_y, Contract_y, PaperlessBilling_y, PaymentMethod_y, MonthlyCharges_y, TotalCharges_y, Churn_y]\n",
              "Index: []\n",
              "\n",
              "[0 rows x 41 columns]"
            ],
            "text/html": [
              "\n",
              "  <div id=\"df-29148e86-aeb4-4bd3-b3e5-942765200e38\" class=\"colab-df-container\">\n",
              "    <div>\n",
              "<style scoped>\n",
              "    .dataframe tbody tr th:only-of-type {\n",
              "        vertical-align: middle;\n",
              "    }\n",
              "\n",
              "    .dataframe tbody tr th {\n",
              "        vertical-align: top;\n",
              "    }\n",
              "\n",
              "    .dataframe thead th {\n",
              "        text-align: right;\n",
              "    }\n",
              "</style>\n",
              "<table border=\"1\" class=\"dataframe\">\n",
              "  <thead>\n",
              "    <tr style=\"text-align: right;\">\n",
              "      <th></th>\n",
              "      <th>customerID</th>\n",
              "      <th>gender_x</th>\n",
              "      <th>SeniorCitizen_x</th>\n",
              "      <th>Partner_x</th>\n",
              "      <th>Dependents_x</th>\n",
              "      <th>tenure_x</th>\n",
              "      <th>PhoneService_x</th>\n",
              "      <th>MultipleLines_x</th>\n",
              "      <th>InternetService_x</th>\n",
              "      <th>OnlineSecurity_x</th>\n",
              "      <th>...</th>\n",
              "      <th>DeviceProtection_y</th>\n",
              "      <th>TechSupport_y</th>\n",
              "      <th>StreamingTV_y</th>\n",
              "      <th>StreamingMovies_y</th>\n",
              "      <th>Contract_y</th>\n",
              "      <th>PaperlessBilling_y</th>\n",
              "      <th>PaymentMethod_y</th>\n",
              "      <th>MonthlyCharges_y</th>\n",
              "      <th>TotalCharges_y</th>\n",
              "      <th>Churn_y</th>\n",
              "    </tr>\n",
              "  </thead>\n",
              "  <tbody>\n",
              "  </tbody>\n",
              "</table>\n",
              "<p>0 rows × 41 columns</p>\n",
              "</div>\n",
              "    <div class=\"colab-df-buttons\">\n",
              "\n",
              "  <div class=\"colab-df-container\">\n",
              "    <button class=\"colab-df-convert\" onclick=\"convertToInteractive('df-29148e86-aeb4-4bd3-b3e5-942765200e38')\"\n",
              "            title=\"Convert this dataframe to an interactive table.\"\n",
              "            style=\"display:none;\">\n",
              "\n",
              "  <svg xmlns=\"http://www.w3.org/2000/svg\" height=\"24px\" viewBox=\"0 -960 960 960\">\n",
              "    <path d=\"M120-120v-720h720v720H120Zm60-500h600v-160H180v160Zm220 220h160v-160H400v160Zm0 220h160v-160H400v160ZM180-400h160v-160H180v160Zm440 0h160v-160H620v160ZM180-180h160v-160H180v160Zm440 0h160v-160H620v160Z\"/>\n",
              "  </svg>\n",
              "    </button>\n",
              "\n",
              "  <style>\n",
              "    .colab-df-container {\n",
              "      display:flex;\n",
              "      gap: 12px;\n",
              "    }\n",
              "\n",
              "    .colab-df-convert {\n",
              "      background-color: #E8F0FE;\n",
              "      border: none;\n",
              "      border-radius: 50%;\n",
              "      cursor: pointer;\n",
              "      display: none;\n",
              "      fill: #1967D2;\n",
              "      height: 32px;\n",
              "      padding: 0 0 0 0;\n",
              "      width: 32px;\n",
              "    }\n",
              "\n",
              "    .colab-df-convert:hover {\n",
              "      background-color: #E2EBFA;\n",
              "      box-shadow: 0px 1px 2px rgba(60, 64, 67, 0.3), 0px 1px 3px 1px rgba(60, 64, 67, 0.15);\n",
              "      fill: #174EA6;\n",
              "    }\n",
              "\n",
              "    .colab-df-buttons div {\n",
              "      margin-bottom: 4px;\n",
              "    }\n",
              "\n",
              "    [theme=dark] .colab-df-convert {\n",
              "      background-color: #3B4455;\n",
              "      fill: #D2E3FC;\n",
              "    }\n",
              "\n",
              "    [theme=dark] .colab-df-convert:hover {\n",
              "      background-color: #434B5C;\n",
              "      box-shadow: 0px 1px 3px 1px rgba(0, 0, 0, 0.15);\n",
              "      filter: drop-shadow(0px 1px 2px rgba(0, 0, 0, 0.3));\n",
              "      fill: #FFFFFF;\n",
              "    }\n",
              "  </style>\n",
              "\n",
              "    <script>\n",
              "      const buttonEl =\n",
              "        document.querySelector('#df-29148e86-aeb4-4bd3-b3e5-942765200e38 button.colab-df-convert');\n",
              "      buttonEl.style.display =\n",
              "        google.colab.kernel.accessAllowed ? 'block' : 'none';\n",
              "\n",
              "      async function convertToInteractive(key) {\n",
              "        const element = document.querySelector('#df-29148e86-aeb4-4bd3-b3e5-942765200e38');\n",
              "        const dataTable =\n",
              "          await google.colab.kernel.invokeFunction('convertToInteractive',\n",
              "                                                    [key], {});\n",
              "        if (!dataTable) return;\n",
              "\n",
              "        const docLinkHtml = 'Like what you see? Visit the ' +\n",
              "          '<a target=\"_blank\" href=https://colab.research.google.com/notebooks/data_table.ipynb>data table notebook</a>'\n",
              "          + ' to learn more about interactive tables.';\n",
              "        element.innerHTML = '';\n",
              "        dataTable['output_type'] = 'display_data';\n",
              "        await google.colab.output.renderOutput(dataTable, element);\n",
              "        const docLink = document.createElement('div');\n",
              "        docLink.innerHTML = docLinkHtml;\n",
              "        element.appendChild(docLink);\n",
              "      }\n",
              "    </script>\n",
              "  </div>\n",
              "\n",
              "\n",
              "    </div>\n",
              "  </div>\n"
            ]
          },
          "metadata": {},
          "execution_count": 10
        }
      ],
      "source": [
        "merged_inner.head() #Checking our inner merged dataframe"
      ]
    },
    {
      "cell_type": "markdown",
      "id": "686007dc",
      "metadata": {
        "id": "686007dc"
      },
      "source": [
        "### Since there are now such rows found, this means that both our dataframes have no intersection.\n",
        "### After analysis we can see that the pdf and xlsx file both have the exact same columns and no such intersecting rows. We can merge them by stacking both the datasets \"Vertically\". This can be acheived by using the concat method shown below"
      ]
    },
    {
      "cell_type": "code",
      "execution_count": 11,
      "id": "6f12ef59",
      "metadata": {
        "colab": {
          "base_uri": "https://localhost:8080/"
        },
        "id": "6f12ef59",
        "outputId": "93694464-4622-42e0-8335-b727a615c82e"
      },
      "outputs": [
        {
          "output_type": "execute_result",
          "data": {
            "text/plain": [
              "(6543, 21)"
            ]
          },
          "metadata": {},
          "execution_count": 11
        }
      ],
      "source": [
        "merged_df = pd.concat([pdf_df,excel_df]) #Concatenating(Vertically stacking)\n",
        "merged_df.shape # Calculating the number of rows and columns"
      ]
    },
    {
      "cell_type": "markdown",
      "id": "f7aa3f4c",
      "metadata": {
        "id": "f7aa3f4c"
      },
      "source": [
        "# Part 2 | DATA CLEANING"
      ]
    },
    {
      "cell_type": "markdown",
      "id": "9f8805ee",
      "metadata": {
        "id": "9f8805ee"
      },
      "source": [
        "## 2.1 | Looking for missing values"
      ]
    },
    {
      "cell_type": "code",
      "execution_count": 12,
      "id": "7eceefd0",
      "metadata": {
        "collapsed": true,
        "colab": {
          "base_uri": "https://localhost:8080/"
        },
        "id": "7eceefd0",
        "outputId": "d3d0b33a-3ced-420d-9887-84b85816697b"
      },
      "outputs": [
        {
          "output_type": "stream",
          "name": "stdout",
          "text": [
            "customerID          0\n",
            "gender              0\n",
            "SeniorCitizen       0\n",
            "Partner             0\n",
            "Dependents          0\n",
            "tenure              0\n",
            "PhoneService        0\n",
            "MultipleLines       0\n",
            "InternetService     0\n",
            "OnlineSecurity      0\n",
            "OnlineBackup        0\n",
            "DeviceProtection    0\n",
            "TechSupport         0\n",
            "StreamingTV         0\n",
            "StreamingMovies     0\n",
            "Contract            0\n",
            "PaperlessBilling    0\n",
            "PaymentMethod       0\n",
            "MonthlyCharges      0\n",
            "TotalCharges        2\n",
            "Churn               0\n",
            "dtype: int64\n",
            "      customerID  gender  SeniorCitizen Partner Dependents  tenure  \\\n",
            "1270  4075-WKNIU  Female              0     Yes        Yes       0   \n",
            "1354  2775-SEFEE    Male              0      No        Yes       0   \n",
            "\n",
            "     PhoneService MultipleLines InternetService OnlineSecurity  ...  \\\n",
            "1270          Yes           Yes             DSL             No  ...   \n",
            "1354          Yes           Yes             DSL            Yes  ...   \n",
            "\n",
            "     DeviceProtection TechSupport StreamingTV StreamingMovies  Contract  \\\n",
            "1270              Yes         Yes         Yes              No  Two year   \n",
            "1354               No         Yes          No              No  Two year   \n",
            "\n",
            "     PaperlessBilling              PaymentMethod MonthlyCharges  TotalCharges  \\\n",
            "1270               No               Mailed check          73.35           NaN   \n",
            "1354              Yes  Bank transfer (automatic)          61.90           NaN   \n",
            "\n",
            "     Churn  \n",
            "1270    No  \n",
            "1354    No  \n",
            "\n",
            "[2 rows x 21 columns]\n"
          ]
        }
      ],
      "source": [
        "missing_values = merged_df.isnull().sum()\n",
        "print(missing_values)\n",
        "rows_with_missing = merged_df[merged_df.isnull().any(axis=1)]\n",
        "print(rows_with_missing)"
      ]
    },
    {
      "cell_type": "markdown",
      "id": "73234614",
      "metadata": {
        "id": "73234614"
      },
      "source": [
        "### Since there are 2 missing values(Total Charges). We now have to decide if we want to remove the entire row or impute them.\n",
        "### Since 2 values is a very small portion of our dataset and both of the rows display a tenure of 0, therefore it is acceptable that we drop these 2 rows."
      ]
    },
    {
      "cell_type": "code",
      "execution_count": 13,
      "id": "252eae9f",
      "metadata": {
        "collapsed": true,
        "colab": {
          "base_uri": "https://localhost:8080/"
        },
        "id": "252eae9f",
        "outputId": "0df9825b-3396-43a0-dbe1-4bc48c48d6d9"
      },
      "outputs": [
        {
          "output_type": "execute_result",
          "data": {
            "text/plain": [
              "customerID          0\n",
              "gender              0\n",
              "SeniorCitizen       0\n",
              "Partner             0\n",
              "Dependents          0\n",
              "tenure              0\n",
              "PhoneService        0\n",
              "MultipleLines       0\n",
              "InternetService     0\n",
              "OnlineSecurity      0\n",
              "OnlineBackup        0\n",
              "DeviceProtection    0\n",
              "TechSupport         0\n",
              "StreamingTV         0\n",
              "StreamingMovies     0\n",
              "Contract            0\n",
              "PaperlessBilling    0\n",
              "PaymentMethod       0\n",
              "MonthlyCharges      0\n",
              "TotalCharges        0\n",
              "Churn               0\n",
              "dtype: int64"
            ]
          },
          "metadata": {},
          "execution_count": 13
        }
      ],
      "source": [
        "merged_df.dropna(inplace=True) #Dropping the rows with null values.\n",
        "merged_df.isnull().sum() #Checking if these rows were dropped."
      ]
    },
    {
      "cell_type": "markdown",
      "id": "750464be",
      "metadata": {
        "id": "750464be"
      },
      "source": [
        "### Therefore we have successfully handles the missing values in our dataset."
      ]
    },
    {
      "cell_type": "markdown",
      "id": "1317280b",
      "metadata": {
        "id": "1317280b"
      },
      "source": [
        "## 2.2 | Checking Duplicates"
      ]
    },
    {
      "cell_type": "markdown",
      "id": "438eff04",
      "metadata": {
        "id": "438eff04"
      },
      "source": [
        "### We will now check if any customer is repeated in our dataset, therefore checking if any customer ID has duplicates."
      ]
    },
    {
      "cell_type": "code",
      "execution_count": 14,
      "id": "ddff83df",
      "metadata": {
        "colab": {
          "base_uri": "https://localhost:8080/"
        },
        "id": "ddff83df",
        "outputId": "a1e59b39-b90b-4931-b32d-c0134784a416"
      },
      "outputs": [
        {
          "output_type": "execute_result",
          "data": {
            "text/plain": [
              "(6541, 21)"
            ]
          },
          "metadata": {},
          "execution_count": 14
        }
      ],
      "source": [
        "merged_df.shape #For checking the number of rows"
      ]
    },
    {
      "cell_type": "code",
      "execution_count": 15,
      "id": "18efd6b1",
      "metadata": {
        "colab": {
          "base_uri": "https://localhost:8080/"
        },
        "id": "18efd6b1",
        "outputId": "c0e5fabb-6df6-4ced-aeb3-e9e690750923"
      },
      "outputs": [
        {
          "output_type": "stream",
          "name": "stdout",
          "text": [
            "Empty DataFrame\n",
            "Columns: [customerID, gender, SeniorCitizen, Partner, Dependents, tenure, PhoneService, MultipleLines, InternetService, OnlineSecurity, OnlineBackup, DeviceProtection, TechSupport, StreamingTV, StreamingMovies, Contract, PaperlessBilling, PaymentMethod, MonthlyCharges, TotalCharges, Churn]\n",
            "Index: []\n",
            "\n",
            "[0 rows x 21 columns]\n"
          ]
        }
      ],
      "source": [
        "duplicate_customers = merged_df[merged_df.duplicated(subset='customerID', keep=False)] #Checking for duplicates of Customer ID\n",
        "print(duplicate_customers)"
      ]
    },
    {
      "cell_type": "markdown",
      "id": "198897da",
      "metadata": {
        "id": "198897da"
      },
      "source": [
        "### We can clearly see that there an no duplicates of Customer ID."
      ]
    },
    {
      "cell_type": "markdown",
      "id": "44f5ecae",
      "metadata": {
        "id": "44f5ecae"
      },
      "source": [
        "## 2.3 | Data Type Conversion"
      ]
    },
    {
      "cell_type": "code",
      "execution_count": 16,
      "id": "eba73c2f",
      "metadata": {
        "collapsed": true,
        "colab": {
          "base_uri": "https://localhost:8080/"
        },
        "id": "eba73c2f",
        "outputId": "681fcca0-b338-4fac-9f77-96174f478190"
      },
      "outputs": [
        {
          "output_type": "stream",
          "name": "stdout",
          "text": [
            "customerID           object\n",
            "gender               object\n",
            "SeniorCitizen         int64\n",
            "Partner              object\n",
            "Dependents           object\n",
            "tenure                int64\n",
            "PhoneService         object\n",
            "MultipleLines        object\n",
            "InternetService      object\n",
            "OnlineSecurity       object\n",
            "OnlineBackup         object\n",
            "DeviceProtection     object\n",
            "TechSupport          object\n",
            "StreamingTV          object\n",
            "StreamingMovies      object\n",
            "Contract             object\n",
            "PaperlessBilling     object\n",
            "PaymentMethod        object\n",
            "MonthlyCharges      float64\n",
            "TotalCharges         object\n",
            "Churn                object\n",
            "dtype: object\n"
          ]
        }
      ],
      "source": [
        "datatype = merged_df.dtypes #Printing the datatype of every column in our dataset.\n",
        "print(datatype)"
      ]
    },
    {
      "cell_type": "markdown",
      "id": "0698fc5d",
      "metadata": {
        "id": "0698fc5d"
      },
      "source": [
        "### I will convert my TotalCharges's datatype from object to a float. This would be used later on."
      ]
    },
    {
      "cell_type": "code",
      "execution_count": 17,
      "id": "a616871a",
      "metadata": {
        "id": "a616871a"
      },
      "outputs": [],
      "source": [
        "merged_df['TotalCharges'] = pd.to_numeric(merged_df['TotalCharges'], errors='coerce')\n",
        "# The errors='coerce' is used to convert invalid inputs into NaN"
      ]
    },
    {
      "cell_type": "code",
      "execution_count": 18,
      "id": "825f26c7",
      "metadata": {
        "colab": {
          "base_uri": "https://localhost:8080/"
        },
        "id": "825f26c7",
        "outputId": "ef20cd41-1439-4b29-a627-db406e06f08e"
      },
      "outputs": [
        {
          "output_type": "stream",
          "name": "stdout",
          "text": [
            "customerID           object\n",
            "gender               object\n",
            "SeniorCitizen         int64\n",
            "Partner              object\n",
            "Dependents           object\n",
            "tenure                int64\n",
            "PhoneService         object\n",
            "MultipleLines        object\n",
            "InternetService      object\n",
            "OnlineSecurity       object\n",
            "OnlineBackup         object\n",
            "DeviceProtection     object\n",
            "TechSupport          object\n",
            "StreamingTV          object\n",
            "StreamingMovies      object\n",
            "Contract             object\n",
            "PaperlessBilling     object\n",
            "PaymentMethod        object\n",
            "MonthlyCharges      float64\n",
            "TotalCharges        float64\n",
            "Churn                object\n",
            "dtype: object\n"
          ]
        }
      ],
      "source": [
        "datatype = merged_df.dtypes #Checking if the dataframe now has Total Charges's datatype set to float.\n",
        "print(datatype)"
      ]
    },
    {
      "cell_type": "markdown",
      "id": "47350640",
      "metadata": {
        "id": "47350640"
      },
      "source": [
        "### We can also convert many things to boolean here, such as Senior Citizens, Partners and Dependents but will do that if needed later on."
      ]
    },
    {
      "cell_type": "markdown",
      "id": "c677b3e8",
      "metadata": {
        "id": "c677b3e8"
      },
      "source": [
        "## 2.4 | Identifying Outliers"
      ]
    },
    {
      "cell_type": "markdown",
      "id": "e60c4a66",
      "metadata": {
        "id": "e60c4a66"
      },
      "source": [
        "### We will do this by taking our mean as reference."
      ]
    },
    {
      "cell_type": "code",
      "execution_count": 19,
      "id": "6c71e9df",
      "metadata": {
        "id": "6c71e9df"
      },
      "outputs": [],
      "source": [
        "from scipy import stats #Importing stats"
      ]
    },
    {
      "cell_type": "code",
      "execution_count": 20,
      "id": "6cb65776",
      "metadata": {
        "colab": {
          "base_uri": "https://localhost:8080/"
        },
        "id": "6cb65776",
        "outputId": "2991f8f6-e68b-49ab-ba65-f8d7ffa225b1"
      },
      "outputs": [
        {
          "output_type": "stream",
          "name": "stdout",
          "text": [
            "Empty DataFrame\n",
            "Columns: [customerID, gender, SeniorCitizen, Partner, Dependents, tenure, PhoneService, MultipleLines, InternetService, OnlineSecurity, OnlineBackup, DeviceProtection, TechSupport, StreamingTV, StreamingMovies, Contract, PaperlessBilling, PaymentMethod, MonthlyCharges, TotalCharges, Churn, MonthlyCharges_zscore, TotalCharges_zscore]\n",
            "Index: []\n",
            "\n",
            "[0 rows x 23 columns]\n",
            "Empty DataFrame\n",
            "Columns: [customerID, gender, SeniorCitizen, Partner, Dependents, tenure, PhoneService, MultipleLines, InternetService, OnlineSecurity, OnlineBackup, DeviceProtection, TechSupport, StreamingTV, StreamingMovies, Contract, PaperlessBilling, PaymentMethod, MonthlyCharges, TotalCharges, Churn, MonthlyCharges_zscore, TotalCharges_zscore]\n",
            "Index: []\n",
            "\n",
            "[0 rows x 23 columns]\n"
          ]
        }
      ],
      "source": [
        "# Calculate z-scores for MonthlyCharges and TotalCharges\n",
        "merged_df['MonthlyCharges_zscore'] = stats.zscore(merged_df['MonthlyCharges'])\n",
        "merged_df['TotalCharges_zscore'] = stats.zscore(merged_df['TotalCharges'])\n",
        "\n",
        "#any data point that is more than 3 standard deviations away from the mean (in either direction) is considered an outlier.\n",
        "zscore_threshold = 3\n",
        "\n",
        "# Identyfying outliers\n",
        "outliers_monthly_charges = merged_df[abs(merged_df['MonthlyCharges_zscore']) > zscore_threshold]\n",
        "outliers_total_charges = merged_df[abs(merged_df['TotalCharges_zscore']) > zscore_threshold]\n",
        "\n",
        "print(outliers_monthly_charges)\n",
        "print(outliers_total_charges)\n"
      ]
    },
    {
      "cell_type": "markdown",
      "id": "686168d8",
      "metadata": {
        "id": "686168d8"
      },
      "source": [
        "### Therefore we can see there are no outliers based on MonthlyCharges and TotalCharges( No values beyond 3 standard deviations)"
      ]
    },
    {
      "cell_type": "markdown",
      "id": "8ab9de9f",
      "metadata": {
        "id": "8ab9de9f"
      },
      "source": [
        "# Part 3 | Exploratory data analysis (EDA) on the churn data"
      ]
    },
    {
      "cell_type": "markdown",
      "id": "fc9c5203",
      "metadata": {
        "id": "fc9c5203"
      },
      "source": [
        "## 3.1 | Importing Visualisation Libraries and analysing demographics"
      ]
    },
    {
      "cell_type": "code",
      "execution_count": 21,
      "id": "665b21f5",
      "metadata": {
        "id": "665b21f5"
      },
      "outputs": [],
      "source": [
        "import matplotlib.pyplot as plt\n",
        "import seaborn as sns\n",
        "import numpy as np"
      ]
    },
    {
      "cell_type": "code",
      "execution_count": 22,
      "id": "164e243e",
      "metadata": {
        "colab": {
          "base_uri": "https://localhost:8080/",
          "height": 334
        },
        "id": "164e243e",
        "outputId": "b3a8dcd7-5848-4ea3-9121-f1b5c27bdbfa"
      },
      "outputs": [
        {
          "output_type": "display_data",
          "data": {
            "text/plain": [
              "<Figure size 2000x400 with 4 Axes>"
            ],
            "image/png": "[encoded data removed]"
          },
          "metadata": {}
        }
      ],
      "source": [
        "cols = ['gender','SeniorCitizen',\"Partner\",\"Dependents\"]\n",
        "numerical = cols\n",
        "\n",
        "plt.figure(figsize=(20,4))\n",
        "\n",
        "for i, col in enumerate(numerical):\n",
        "    ax = plt.subplot(1, len(numerical), i+1)\n",
        "    sns.countplot(x=str(col), data=merged_df)\n",
        "    ax.set_title(f\"{col}\")"
      ]
    },
    {
      "cell_type": "markdown",
      "id": "ac039854",
      "metadata": {
        "id": "ac039854"
      },
      "source": [
        "### We can see that most of the customers are younger citizens who do not have a dependent. Whereas the gender and partner proportions are almost the same."
      ]
    },
    {
      "cell_type": "markdown",
      "id": "194f52f2",
      "metadata": {
        "id": "194f52f2"
      },
      "source": [
        "### Now we will look at the relationship between MonthlyCharges and Churn to see if there is any correlation between them."
      ]
    },
    {
      "cell_type": "code",
      "execution_count": 23,
      "id": "d9e3e35f",
      "metadata": {
        "colab": {
          "base_uri": "https://localhost:8080/",
          "height": 467
        },
        "id": "d9e3e35f",
        "outputId": "9e83b8a2-e6d2-4ba2-ed55-9915b8387b1e"
      },
      "outputs": [
        {
          "output_type": "execute_result",
          "data": {
            "text/plain": [
              "<Axes: xlabel='Churn', ylabel='MonthlyCharges'>"
            ]
          },
          "metadata": {},
          "execution_count": 23
        },
        {
          "output_type": "display_data",
          "data": {
            "text/plain": [
              "<Figure size 640x480 with 1 Axes>"
            ],
            "image/png": "[encoded data removed]"
          },
          "metadata": {}
        }
      ],
      "source": [
        "sns.boxplot(x='Churn', y='MonthlyCharges', data=merged_df) # Using the seaborn library to create a boxplot"
      ]
    },
    {
      "cell_type": "markdown",
      "id": "4e9771c8",
      "metadata": {
        "id": "4e9771c8"
      },
      "source": [
        "### We can clearly see here that people who stopped using the service tend to have a higher typical monthly charge compared to those who continued using it."
      ]
    },
    {
      "cell_type": "markdown",
      "id": "bb885c1c",
      "metadata": {
        "id": "bb885c1c"
      },
      "source": [
        "## 3.2 | Senior Citizens and Churn"
      ]
    },
    {
      "cell_type": "code",
      "execution_count": 24,
      "id": "4478cfcf",
      "metadata": {
        "id": "4478cfcf"
      },
      "outputs": [],
      "source": [
        "#It is very important to split the data into train and test sets now as this ensures a clear seperation between\n",
        "# the 2 phases, explainatory analysis and modelling. Also it prevents biases or leakages which inturn could affect\n",
        "# the model's performance.\n",
        "\n",
        "#Importing train_test_split to do such seperations\n",
        "from sklearn.model_selection import train_test_split"
      ]
    },
    {
      "cell_type": "code",
      "execution_count": 25,
      "id": "a0464f8c",
      "metadata": {
        "colab": {
          "base_uri": "https://localhost:8080/"
        },
        "id": "a0464f8c",
        "outputId": "a2649c32-2e6c-442b-9ad4-39d700030219"
      },
      "outputs": [
        {
          "output_type": "stream",
          "name": "stdout",
          "text": [
            "9       Yes\n",
            "11      Yes\n",
            "12       No\n",
            "18       No\n",
            "19       No\n",
            "       ... \n",
            "4841    Yes\n",
            "4859    Yes\n",
            "4868    Yes\n",
            "4872     No\n",
            "4890    Yes\n",
            "Name: Churn, Length: 1058, dtype: object\n"
          ]
        }
      ],
      "source": [
        "senior_citizens = merged_df[merged_df['SeniorCitizen'] == 1]\n",
        "#print(senior_citizens)\n",
        "X_senior = senior_citizens.drop('Churn', axis=1)\n",
        "y_senior = senior_citizens['Churn']\n",
        "print(y_senior)"
      ]
    },
    {
      "cell_type": "code",
      "execution_count": 26,
      "id": "8e1d7551",
      "metadata": {
        "colab": {
          "base_uri": "https://localhost:8080/"
        },
        "id": "8e1d7551",
        "outputId": "36480f92-5255-49e1-9263-cc14d49da4ac"
      },
      "outputs": [
        {
          "output_type": "stream",
          "name": "stdout",
          "text": [
            "Columns in X_senior (features for senior citizens):\n",
            "Index(['customerID', 'gender', 'SeniorCitizen', 'Partner', 'Dependents',\n",
            "       'tenure', 'PhoneService', 'MultipleLines', 'InternetService',\n",
            "       'OnlineSecurity', 'OnlineBackup', 'DeviceProtection', 'TechSupport',\n",
            "       'StreamingTV', 'StreamingMovies', 'Contract', 'PaperlessBilling',\n",
            "       'PaymentMethod', 'MonthlyCharges', 'TotalCharges',\n",
            "       'MonthlyCharges_zscore', 'TotalCharges_zscore'],\n",
            "      dtype='object')\n",
            "\n",
            "Churn Rate for Senior Citizens:\n",
            "No     57.844991\n",
            "Yes    42.155009\n",
            "Name: Churn, dtype: float64\n"
          ]
        }
      ],
      "source": [
        "\n",
        "# Print columns in X_senior (features for senior citizens)\n",
        "print(\"Columns in X_senior (features for senior citizens):\")\n",
        "print(X_senior.columns)\n",
        "\n",
        "# Calculate churn rate for senior citizens\n",
        "senior_citizens_churn_rate = (y_senior.value_counts() / len(y_senior)) * 100\n",
        "print(\"\\nChurn Rate for Senior Citizens:\")\n",
        "print(senior_citizens_churn_rate)"
      ]
    },
    {
      "cell_type": "markdown",
      "id": "08273a33",
      "metadata": {
        "id": "08273a33"
      },
      "source": [
        "### This shows that about 57.84% of Seniors have not churned while 42.16% have."
      ]
    },
    {
      "cell_type": "code",
      "execution_count": 27,
      "id": "42bf61e8",
      "metadata": {
        "colab": {
          "base_uri": "https://localhost:8080/",
          "height": 521
        },
        "id": "42bf61e8",
        "outputId": "2df0ec06-0d94-458b-acad-19eda415f4d3"
      },
      "outputs": [
        {
          "output_type": "display_data",
          "data": {
            "text/plain": [
              "<Figure size 600x600 with 1 Axes>"
            ],
            "image/png": "[encoded data removed]"
          },
          "metadata": {}
        }
      ],
      "source": [
        "churn_labels = ['No', 'Yes']\n",
        "churn_values = [57.844991, 42.155009]\n",
        "\n",
        "# Create pie chart\n",
        "plt.figure(figsize=(6, 6))\n",
        "plt.pie(churn_values, labels=churn_labels, autopct='%1.2f%%', startangle=140)\n",
        "plt.title('Churn Rate for Senior Citizens')\n",
        "plt.axis('equal')  # Equal aspect ratio ensures that pie is drawn as a circle\n",
        "plt.show()"
      ]
    },
    {
      "cell_type": "markdown",
      "id": "3706f3a0",
      "metadata": {
        "id": "3706f3a0"
      },
      "source": [
        "## 3.3 | Tenure and Churn"
      ]
    },
    {
      "cell_type": "code",
      "execution_count": 28,
      "id": "9bc0ca5b",
      "metadata": {
        "colab": {
          "base_uri": "https://localhost:8080/"
        },
        "id": "9bc0ca5b",
        "outputId": "211ed072-050e-4972-f0bd-0bed32e42e1a"
      },
      "outputs": [
        {
          "output_type": "stream",
          "name": "stdout",
          "text": [
            "Average tenure for churned customers: 18.15 months\n",
            "Average tenure for non-churned customers: 37.64 months\n"
          ]
        }
      ],
      "source": [
        "churned_customers = merged_df[merged_df['Churn'] == 'Yes']\n",
        "non_churned_customers = merged_df[merged_df['Churn'] == 'No']\n",
        "\n",
        "# Calculate average tenure for churned and non-churned customers\n",
        "avg_tenure_churned = churned_customers['tenure'].mean()\n",
        "avg_tenure_non_churned = non_churned_customers['tenure'].mean()\n",
        "\n",
        "print(f\"Average tenure for churned customers: {avg_tenure_churned:.2f} months\")\n",
        "print(f\"Average tenure for non-churned customers: {avg_tenure_non_churned:.2f} months\")"
      ]
    },
    {
      "cell_type": "code",
      "execution_count": 29,
      "id": "0b5b8114",
      "metadata": {
        "colab": {
          "base_uri": "https://localhost:8080/",
          "height": 564
        },
        "id": "0b5b8114",
        "outputId": "436c0151-b85c-4363-86b4-d80895e64b29"
      },
      "outputs": [
        {
          "output_type": "display_data",
          "data": {
            "text/plain": [
              "<Figure size 800x600 with 1 Axes>"
            ],
            "image/png": "[encoded data removed]"
          },
          "metadata": {}
        }
      ],
      "source": [
        "# Plotting Results\n",
        "\n",
        "labels = ['Churned Customers', 'Non-Churned Customers']\n",
        "values = [avg_tenure_churned, avg_tenure_non_churned]\n",
        "\n",
        "plt.figure(figsize=(8, 6))\n",
        "plt.bar(labels, values, color=['red', 'green'])\n",
        "plt.xlabel('Customer Churn Status')\n",
        "plt.ylabel('Average Tenure (months)')\n",
        "plt.title('Average Tenure for Churned and Non-Churned Customers')\n",
        "plt.show()"
      ]
    },
    {
      "cell_type": "markdown",
      "id": "10e850ff",
      "metadata": {
        "id": "10e850ff"
      },
      "source": [
        "## 3.4 | Internet Service and Churn"
      ]
    },
    {
      "cell_type": "code",
      "execution_count": 30,
      "id": "15256a71",
      "metadata": {
        "colab": {
          "base_uri": "https://localhost:8080/"
        },
        "id": "15256a71",
        "outputId": "05c9ab3d-fd7f-48fb-dc81-c05bcdbc61cf"
      },
      "outputs": [
        {
          "output_type": "stream",
          "name": "stdout",
          "text": [
            "Churn                   No        Yes\n",
            "InternetService                      \n",
            "DSL              81.088314  18.911686\n",
            "Fiber optic      57.790171  42.209829\n",
            "No               92.587413   7.412587\n"
          ]
        }
      ],
      "source": [
        "churn_by_internet_service = merged_df.groupby('InternetService')['Churn'].value_counts(normalize=True).unstack() * 100\n",
        "print(churn_by_internet_service)"
      ]
    },
    {
      "cell_type": "code",
      "execution_count": 31,
      "id": "65b0e11e",
      "metadata": {
        "colab": {
          "base_uri": "https://localhost:8080/",
          "height": 564
        },
        "id": "65b0e11e",
        "outputId": "2f47f043-7c7d-48d9-a665-da9414e49db2"
      },
      "outputs": [
        {
          "output_type": "display_data",
          "data": {
            "text/plain": [
              "<Figure size 800x600 with 1 Axes>"
            ],
            "image/png": "[encoded data removed]"
          },
          "metadata": {}
        }
      ],
      "source": [
        "#Plotting this\n",
        "\n",
        "churn_by_internet_service.plot(kind='bar', figsize=(8, 6))\n",
        "plt.xlabel('Internet Service Type')\n",
        "plt.ylabel('Churn Rate (%)')\n",
        "plt.title('Churn Rates by Internet Service Type')\n",
        "plt.legend(title='Churn', loc='upper right')\n",
        "plt.xticks(rotation=0)\n",
        "plt.show()"
      ]
    },
    {
      "cell_type": "markdown",
      "id": "7aceaba2",
      "metadata": {
        "id": "7aceaba2"
      },
      "source": [
        "## 3.5 | Additional Services and Churn"
      ]
    },
    {
      "cell_type": "code",
      "execution_count": 32,
      "id": "e548fe58",
      "metadata": {
        "colab": {
          "base_uri": "https://localhost:8080/"
        },
        "id": "e548fe58",
        "outputId": "8ca26f33-704b-48ce-a223-5f4f5b58aa2b"
      },
      "outputs": [
        {
          "output_type": "stream",
          "name": "stdout",
          "text": [
            "Churn                       No        Yes\n",
            "TechSupport                              \n",
            "No                   58.377370  41.622630\n",
            "No internet service  92.587413   7.412587\n",
            "Yes                  84.371700  15.628300\n"
          ]
        }
      ],
      "source": [
        "services = ['OnlineSecurity', 'OnlineBackup', 'DeviceProtection', 'TechSupport']\n",
        "\n",
        "# Calculate churn rates for customers with and without each service\n",
        "for service in services:\n",
        "    churn_by_service = merged_df.groupby(service)['Churn'].value_counts(normalize=True).unstack() * 100\n",
        "print(churn_by_service)"
      ]
    },
    {
      "cell_type": "code",
      "execution_count": 33,
      "id": "c2d144ed",
      "metadata": {
        "colab": {
          "base_uri": "https://localhost:8080/",
          "height": 341
        },
        "id": "c2d144ed",
        "outputId": "82dd1316-f4cc-4e3c-f418-2d27391b063c"
      },
      "outputs": [
        {
          "output_type": "display_data",
          "data": {
            "text/plain": [
              "<Figure size 800x600 with 2 Axes>"
            ],
            "image/png": "[encoded data removed]"
          },
          "metadata": {}
        }
      ],
      "source": [
        "churn_by_service.plot.pie(subplots=True, figsize=(8, 6), autopct='%1.1f%%', startangle=90)\n",
        "plt.title(f'Churn Rates by {service} Service')\n",
        "plt.ylabel('')  # Remove the 'Churn' label on y-axis\n",
        "plt.legend(title='Churn', loc='upper right')\n",
        "plt.show()"
      ]
    },
    {
      "cell_type": "markdown",
      "id": "98eb7c12",
      "metadata": {
        "id": "98eb7c12"
      },
      "source": [
        "## 3.6 | Contract Type and Churn"
      ]
    },
    {
      "cell_type": "code",
      "execution_count": 34,
      "id": "cab02909",
      "metadata": {
        "colab": {
          "base_uri": "https://localhost:8080/"
        },
        "id": "cab02909",
        "outputId": "8feb45ae-0d94-4174-c84d-a25f6cf32536"
      },
      "outputs": [
        {
          "output_type": "stream",
          "name": "stdout",
          "text": [
            "Churn                  No        Yes\n",
            "Contract                            \n",
            "Month-to-month  57.266147  42.733853\n",
            "One year        88.273853  11.726147\n",
            "Two year        97.144670   2.855330\n"
          ]
        }
      ],
      "source": [
        "churn_by_contract = merged_df.groupby('Contract')['Churn'].value_counts(normalize=True).unstack() * 100\n",
        "print(churn_by_contract)"
      ]
    },
    {
      "cell_type": "code",
      "execution_count": 35,
      "id": "caa66487",
      "metadata": {
        "colab": {
          "base_uri": "https://localhost:8080/",
          "height": 564
        },
        "id": "caa66487",
        "outputId": "02383a4b-141c-4c72-9b45-10e7f1dbceb0"
      },
      "outputs": [
        {
          "output_type": "display_data",
          "data": {
            "text/plain": [
              "<Figure size 800x600 with 1 Axes>"
            ],
            "image/png": "[encoded data removed]"
          },
          "metadata": {}
        }
      ],
      "source": [
        "#Plotting\n",
        "churn_by_contract.plot(kind='bar', figsize=(8, 6))\n",
        "plt.xlabel('Contract Type')\n",
        "plt.ylabel('Churn Rate (%)')\n",
        "plt.title('Churn Rates by Contract Type')\n",
        "plt.legend(title='Churn', loc='upper right')\n",
        "plt.xticks(rotation=0)\n",
        "plt.show()"
      ]
    },
    {
      "cell_type": "markdown",
      "id": "ddff659d",
      "metadata": {
        "id": "ddff659d"
      },
      "source": [
        "## 3.7 | Payment Method and Churn"
      ]
    },
    {
      "cell_type": "code",
      "execution_count": 36,
      "id": "1ebe6741",
      "metadata": {
        "colab": {
          "base_uri": "https://localhost:8080/"
        },
        "id": "1ebe6741",
        "outputId": "3ad9f703-e862-4cf7-97c9-9acc1d671e21"
      },
      "outputs": [
        {
          "output_type": "stream",
          "name": "stdout",
          "text": [
            "Churn                             No        Yes\n",
            "PaymentMethod                                  \n",
            "Bank transfer (automatic)  83.426966  16.573034\n",
            "Credit card (automatic)    84.539705  15.460295\n",
            "Electronic check           54.483386  45.516614\n",
            "Mailed check               80.961924  19.038076\n"
          ]
        }
      ],
      "source": [
        "churn_by_payment_method = merged_df.groupby('PaymentMethod')['Churn'].value_counts(normalize=True).unstack() * 100\n",
        "print(churn_by_payment_method)"
      ]
    },
    {
      "cell_type": "code",
      "execution_count": 37,
      "id": "0c08c3ea",
      "metadata": {
        "colab": {
          "base_uri": "https://localhost:8080/",
          "height": 830
        },
        "id": "0c08c3ea",
        "outputId": "1b0ccc39-49da-4df0-caaa-dbe76203479f"
      },
      "outputs": [
        {
          "output_type": "display_data",
          "data": {
            "text/plain": [
              "<Figure size 1000x600 with 1 Axes>"
            ],
            "image/png": "[encoded data removed]"
          },
          "metadata": {}
        },
        {
          "output_type": "stream",
          "name": "stdout",
          "text": [
            "Churn rate for automatic payment methods:\n",
            "No     83.98314\n",
            "Yes    16.01686\n",
            "Name: Churn, dtype: float64\n",
            "Churn rate for non-automatic payment methods:\n",
            "No     65.21386\n",
            "Yes    34.78614\n",
            "Name: Churn, dtype: float64\n"
          ]
        }
      ],
      "source": [
        "# Plotting bar chart for churn rates by payment method\n",
        "churn_by_payment_method.plot(kind='bar', figsize=(10, 6))\n",
        "plt.xlabel('Payment Method')\n",
        "plt.ylabel('Churn Rate (%)')\n",
        "plt.title('Churn Rates by Payment Method')\n",
        "plt.legend(title='Churn', loc='upper right')\n",
        "plt.xticks(rotation=45)\n",
        "plt.show()\n",
        "\n",
        "# Compare churn rates for automatic and non-automatic payment methods\n",
        "automatic_payment_methods = ['Bank transfer (automatic)', 'Credit card (automatic)']\n",
        "non_automatic_payment_methods = ['Electronic check', 'Mailed check']\n",
        "\n",
        "automatic_churn_rate = merged_df[merged_df['PaymentMethod'].isin(automatic_payment_methods)]['Churn'].value_counts(normalize=True) * 100\n",
        "non_automatic_churn_rate = merged_df[merged_df['PaymentMethod'].isin(non_automatic_payment_methods)]['Churn'].value_counts(normalize=True) * 100\n",
        "\n",
        "print(f'Churn rate for automatic payment methods:\\n{automatic_churn_rate}')\n",
        "print(f'Churn rate for non-automatic payment methods:\\n{non_automatic_churn_rate}')"
      ]
    },
    {
      "cell_type": "code",
      "execution_count": 38,
      "id": "2d04113f",
      "metadata": {
        "colab": {
          "base_uri": "https://localhost:8080/",
          "height": 523
        },
        "id": "2d04113f",
        "outputId": "0f507326-24e8-48a8-e719-99e2c3716171"
      },
      "outputs": [
        {
          "output_type": "display_data",
          "data": {
            "text/plain": [
              "<Figure size 1000x500 with 2 Axes>"
            ],
            "image/png": "[encoded data removed]"
          },
          "metadata": {}
        }
      ],
      "source": [
        "plt.figure(figsize=(10, 5))\n",
        "\n",
        "plt.subplot(1, 2, 1)\n",
        "automatic_churn_rate.plot(kind='pie', autopct='%1.1f%%', startangle=90)\n",
        "plt.title('Churn Rates for Automatic Payment Methods')\n",
        "plt.ylabel('')  # Remove y-label\n",
        "\n",
        "# Plotting pie chart for churn rates of non-automatic payment methods\n",
        "plt.subplot(1, 2, 2)\n",
        "non_automatic_churn_rate.plot(kind='pie', autopct='%1.1f%%', startangle=90)\n",
        "plt.title('Churn Rates for Non-Automatic Payment Methods')\n",
        "plt.ylabel('')  # Remove y-label\n",
        "\n",
        "plt.tight_layout()\n",
        "plt.show()"
      ]
    },
    {
      "cell_type": "markdown",
      "id": "7989949a",
      "metadata": {
        "id": "7989949a"
      },
      "source": [
        "# PART 4 | BUILDING A CHURN PREDICTION MODEL"
      ]
    },
    {
      "cell_type": "markdown",
      "id": "e0046de0",
      "metadata": {
        "id": "e0046de0"
      },
      "source": [
        "## 4.1 | Encoding Data"
      ]
    },
    {
      "cell_type": "code",
      "execution_count": 39,
      "id": "2b106fd7",
      "metadata": {
        "id": "2b106fd7"
      },
      "outputs": [],
      "source": [
        "from sklearn.preprocessing import LabelEncoder #Importing Label Encoder\n"
      ]
    },
    {
      "cell_type": "code",
      "execution_count": 40,
      "id": "81a08d32",
      "metadata": {
        "colab": {
          "base_uri": "https://localhost:8080/",
          "height": 256
        },
        "id": "81a08d32",
        "outputId": "f416d9f6-b7a0-4a18-dce9-e925a2cb3b59"
      },
      "outputs": [
        {
          "output_type": "execute_result",
          "data": {
            "text/plain": [
              "   customerID  gender  SeniorCitizen  Partner  Dependents  tenure  \\\n",
              "0        2659       0              0        0           0      33   \n",
              "1        3355       1              0        0           0      31   \n",
              "2        3317       0              0        1           1       9   \n",
              "3         161       0              0        1           1      54   \n",
              "4        5848       0              0        0           0      46   \n",
              "\n",
              "   PhoneService  MultipleLines  InternetService  OnlineSecurity  ...  \\\n",
              "0             1              0                1               0  ...   \n",
              "1             1              0                2               1  ...   \n",
              "2             1              0                2               1  ...   \n",
              "3             1              2                0               0  ...   \n",
              "4             1              0                1               2  ...   \n",
              "\n",
              "   StreamingTV  StreamingMovies  Contract  PaperlessBilling  PaymentMethod  \\\n",
              "0            0                0         0                 1              0   \n",
              "1            1                1         2                 0              3   \n",
              "2            1                1         2                 0              3   \n",
              "3            2                2         0                 1              2   \n",
              "4            2                0         1                 1              1   \n",
              "\n",
              "   MonthlyCharges  TotalCharges  Churn  MonthlyCharges_zscore  \\\n",
              "0           70.40       2406.10      0               0.190219   \n",
              "1           20.45        638.55      0              -1.467438   \n",
              "2           20.35        191.10      0              -1.470757   \n",
              "3           86.20       4524.05      0               0.714563   \n",
              "4           95.65       4664.20      0               1.028174   \n",
              "\n",
              "   TotalCharges_zscore  \n",
              "0                  NaN  \n",
              "1                  NaN  \n",
              "2                  NaN  \n",
              "3                  NaN  \n",
              "4                  NaN  \n",
              "\n",
              "[5 rows x 23 columns]"
            ],
            "text/html": [
              "\n",
              "  <div id=\"df-92d46195-c5e2-408d-8bc4-777cdfb34ed5\" class=\"colab-df-container\">\n",
              "    <div>\n",
              "<style scoped>\n",
              "    .dataframe tbody tr th:only-of-type {\n",
              "        vertical-align: middle;\n",
              "    }\n",
              "\n",
              "    .dataframe tbody tr th {\n",
              "        vertical-align: top;\n",
              "    }\n",
              "\n",
              "    .dataframe thead th {\n",
              "        text-align: right;\n",
              "    }\n",
              "</style>\n",
              "<table border=\"1\" class=\"dataframe\">\n",
              "  <thead>\n",
              "    <tr style=\"text-align: right;\">\n",
              "      <th></th>\n",
              "      <th>customerID</th>\n",
              "      <th>gender</th>\n",
              "      <th>SeniorCitizen</th>\n",
              "      <th>Partner</th>\n",
              "      <th>Dependents</th>\n",
              "      <th>tenure</th>\n",
              "      <th>PhoneService</th>\n",
              "      <th>MultipleLines</th>\n",
              "      <th>InternetService</th>\n",
              "      <th>OnlineSecurity</th>\n",
              "      <th>...</th>\n",
              "      <th>StreamingTV</th>\n",
              "      <th>StreamingMovies</th>\n",
              "      <th>Contract</th>\n",
              "      <th>PaperlessBilling</th>\n",
              "      <th>PaymentMethod</th>\n",
              "      <th>MonthlyCharges</th>\n",
              "      <th>TotalCharges</th>\n",
              "      <th>Churn</th>\n",
              "      <th>MonthlyCharges_zscore</th>\n",
              "      <th>TotalCharges_zscore</th>\n",
              "    </tr>\n",
              "  </thead>\n",
              "  <tbody>\n",
              "    <tr>\n",
              "      <th>0</th>\n",
              "      <td>2659</td>\n",
              "      <td>0</td>\n",
              "      <td>0</td>\n",
              "      <td>0</td>\n",
              "      <td>0</td>\n",
              "      <td>33</td>\n",
              "      <td>1</td>\n",
              "      <td>0</td>\n",
              "      <td>1</td>\n",
              "      <td>0</td>\n",
              "      <td>...</td>\n",
              "      <td>0</td>\n",
              "      <td>0</td>\n",
              "      <td>0</td>\n",
              "      <td>1</td>\n",
              "      <td>0</td>\n",
              "      <td>70.40</td>\n",
              "      <td>2406.10</td>\n",
              "      <td>0</td>\n",
              "      <td>0.190219</td>\n",
              "      <td>NaN</td>\n",
              "    </tr>\n",
              "    <tr>\n",
              "      <th>1</th>\n",
              "      <td>3355</td>\n",
              "      <td>1</td>\n",
              "      <td>0</td>\n",
              "      <td>0</td>\n",
              "      <td>0</td>\n",
              "      <td>31</td>\n",
              "      <td>1</td>\n",
              "      <td>0</td>\n",
              "      <td>2</td>\n",
              "      <td>1</td>\n",
              "      <td>...</td>\n",
              "      <td>1</td>\n",
              "      <td>1</td>\n",
              "      <td>2</td>\n",
              "      <td>0</td>\n",
              "      <td>3</td>\n",
              "      <td>20.45</td>\n",
              "      <td>638.55</td>\n",
              "      <td>0</td>\n",
              "      <td>-1.467438</td>\n",
              "      <td>NaN</td>\n",
              "    </tr>\n",
              "    <tr>\n",
              "      <th>2</th>\n",
              "      <td>3317</td>\n",
              "      <td>0</td>\n",
              "      <td>0</td>\n",
              "      <td>1</td>\n",
              "      <td>1</td>\n",
              "      <td>9</td>\n",
              "      <td>1</td>\n",
              "      <td>0</td>\n",
              "      <td>2</td>\n",
              "      <td>1</td>\n",
              "      <td>...</td>\n",
              "      <td>1</td>\n",
              "      <td>1</td>\n",
              "      <td>2</td>\n",
              "      <td>0</td>\n",
              "      <td>3</td>\n",
              "      <td>20.35</td>\n",
              "      <td>191.10</td>\n",
              "      <td>0</td>\n",
              "      <td>-1.470757</td>\n",
              "      <td>NaN</td>\n",
              "    </tr>\n",
              "    <tr>\n",
              "      <th>3</th>\n",
              "      <td>161</td>\n",
              "      <td>0</td>\n",
              "      <td>0</td>\n",
              "      <td>1</td>\n",
              "      <td>1</td>\n",
              "      <td>54</td>\n",
              "      <td>1</td>\n",
              "      <td>2</td>\n",
              "      <td>0</td>\n",
              "      <td>0</td>\n",
              "      <td>...</td>\n",
              "      <td>2</td>\n",
              "      <td>2</td>\n",
              "      <td>0</td>\n",
              "      <td>1</td>\n",
              "      <td>2</td>\n",
              "      <td>86.20</td>\n",
              "      <td>4524.05</td>\n",
              "      <td>0</td>\n",
              "      <td>0.714563</td>\n",
              "      <td>NaN</td>\n",
              "    </tr>\n",
              "    <tr>\n",
              "      <th>4</th>\n",
              "      <td>5848</td>\n",
              "      <td>0</td>\n",
              "      <td>0</td>\n",
              "      <td>0</td>\n",
              "      <td>0</td>\n",
              "      <td>46</td>\n",
              "      <td>1</td>\n",
              "      <td>0</td>\n",
              "      <td>1</td>\n",
              "      <td>2</td>\n",
              "      <td>...</td>\n",
              "      <td>2</td>\n",
              "      <td>0</td>\n",
              "      <td>1</td>\n",
              "      <td>1</td>\n",
              "      <td>1</td>\n",
              "      <td>95.65</td>\n",
              "      <td>4664.20</td>\n",
              "      <td>0</td>\n",
              "      <td>1.028174</td>\n",
              "      <td>NaN</td>\n",
              "    </tr>\n",
              "  </tbody>\n",
              "</table>\n",
              "<p>5 rows × 23 columns</p>\n",
              "</div>\n",
              "    <div class=\"colab-df-buttons\">\n",
              "\n",
              "  <div class=\"colab-df-container\">\n",
              "    <button class=\"colab-df-convert\" onclick=\"convertToInteractive('df-92d46195-c5e2-408d-8bc4-777cdfb34ed5')\"\n",
              "            title=\"Convert this dataframe to an interactive table.\"\n",
              "            style=\"display:none;\">\n",
              "\n",
              "  <svg xmlns=\"http://www.w3.org/2000/svg\" height=\"24px\" viewBox=\"0 -960 960 960\">\n",
              "    <path d=\"M120-120v-720h720v720H120Zm60-500h600v-160H180v160Zm220 220h160v-160H400v160Zm0 220h160v-160H400v160ZM180-400h160v-160H180v160Zm440 0h160v-160H620v160ZM180-180h160v-160H180v160Zm440 0h160v-160H620v160Z\"/>\n",
              "  </svg>\n",
              "    </button>\n",
              "\n",
              "  <style>\n",
              "    .colab-df-container {\n",
              "      display:flex;\n",
              "      gap: 12px;\n",
              "    }\n",
              "\n",
              "    .colab-df-convert {\n",
              "      background-color: #E8F0FE;\n",
              "      border: none;\n",
              "      border-radius: 50%;\n",
              "      cursor: pointer;\n",
              "      display: none;\n",
              "      fill: #1967D2;\n",
              "      height: 32px;\n",
              "      padding: 0 0 0 0;\n",
              "      width: 32px;\n",
              "    }\n",
              "\n",
              "    .colab-df-convert:hover {\n",
              "      background-color: #E2EBFA;\n",
              "      box-shadow: 0px 1px 2px rgba(60, 64, 67, 0.3), 0px 1px 3px 1px rgba(60, 64, 67, 0.15);\n",
              "      fill: #174EA6;\n",
              "    }\n",
              "\n",
              "    .colab-df-buttons div {\n",
              "      margin-bottom: 4px;\n",
              "    }\n",
              "\n",
              "    [theme=dark] .colab-df-convert {\n",
              "      background-color: #3B4455;\n",
              "      fill: #D2E3FC;\n",
              "    }\n",
              "\n",
              "    [theme=dark] .colab-df-convert:hover {\n",
              "      background-color: #434B5C;\n",
              "      box-shadow: 0px 1px 3px 1px rgba(0, 0, 0, 0.15);\n",
              "      filter: drop-shadow(0px 1px 2px rgba(0, 0, 0, 0.3));\n",
              "      fill: #FFFFFF;\n",
              "    }\n",
              "  </style>\n",
              "\n",
              "    <script>\n",
              "      const buttonEl =\n",
              "        document.querySelector('#df-92d46195-c5e2-408d-8bc4-777cdfb34ed5 button.colab-df-convert');\n",
              "      buttonEl.style.display =\n",
              "        google.colab.kernel.accessAllowed ? 'block' : 'none';\n",
              "\n",
              "      async function convertToInteractive(key) {\n",
              "        const element = document.querySelector('#df-92d46195-c5e2-408d-8bc4-777cdfb34ed5');\n",
              "        const dataTable =\n",
              "          await google.colab.kernel.invokeFunction('convertToInteractive',\n",
              "                                                    [key], {});\n",
              "        if (!dataTable) return;\n",
              "\n",
              "        const docLinkHtml = 'Like what you see? Visit the ' +\n",
              "          '<a target=\"_blank\" href=https://colab.research.google.com/notebooks/data_table.ipynb>data table notebook</a>'\n",
              "          + ' to learn more about interactive tables.';\n",
              "        element.innerHTML = '';\n",
              "        dataTable['output_type'] = 'display_data';\n",
              "        await google.colab.output.renderOutput(dataTable, element);\n",
              "        const docLink = document.createElement('div');\n",
              "        docLink.innerHTML = docLinkHtml;\n",
              "        element.appendChild(docLink);\n",
              "      }\n",
              "    </script>\n",
              "  </div>\n",
              "\n",
              "\n",
              "<div id=\"df-6e304929-75fa-4db8-b05a-f7e107eb8274\">\n",
              "  <button class=\"colab-df-quickchart\" onclick=\"quickchart('df-6e304929-75fa-4db8-b05a-f7e107eb8274')\"\n",
              "            title=\"Suggest charts\"\n",
              "            style=\"display:none;\">\n",
              "\n",
              "<svg xmlns=\"http://www.w3.org/2000/svg\" height=\"24px\"viewBox=\"0 0 24 24\"\n",
              "     width=\"24px\">\n",
              "    <g>\n",
              "        <path d=\"M19 3H5c-1.1 0-2 .9-2 2v14c0 1.1.9 2 2 2h14c1.1 0 2-.9 2-2V5c0-1.1-.9-2-2-2zM9 17H7v-7h2v7zm4 0h-2V7h2v10zm4 0h-2v-4h2v4z\"/>\n",
              "    </g>\n",
              "</svg>\n",
              "  </button>\n",
              "\n",
              "<style>\n",
              "  .colab-df-quickchart {\n",
              "      --bg-color: #E8F0FE;\n",
              "      --fill-color: #1967D2;\n",
              "      --hover-bg-color: #E2EBFA;\n",
              "      --hover-fill-color: #174EA6;\n",
              "      --disabled-fill-color: #AAA;\n",
              "      --disabled-bg-color: #DDD;\n",
              "  }\n",
              "\n",
              "  [theme=dark] .colab-df-quickchart {\n",
              "      --bg-color: #3B4455;\n",
              "      --fill-color: #D2E3FC;\n",
              "      --hover-bg-color: #434B5C;\n",
              "      --hover-fill-color: #FFFFFF;\n",
              "      --disabled-bg-color: #3B4455;\n",
              "      --disabled-fill-color: #666;\n",
              "  }\n",
              "\n",
              "  .colab-df-quickchart {\n",
              "    background-color: var(--bg-color);\n",
              "    border: none;\n",
              "    border-radius: 50%;\n",
              "    cursor: pointer;\n",
              "    display: none;\n",
              "    fill: var(--fill-color);\n",
              "    height: 32px;\n",
              "    padding: 0;\n",
              "    width: 32px;\n",
              "  }\n",
              "\n",
              "  .colab-df-quickchart:hover {\n",
              "    background-color: var(--hover-bg-color);\n",
              "    box-shadow: 0 1px 2px rgba(60, 64, 67, 0.3), 0 1px 3px 1px rgba(60, 64, 67, 0.15);\n",
              "    fill: var(--button-hover-fill-color);\n",
              "  }\n",
              "\n",
              "  .colab-df-quickchart-complete:disabled,\n",
              "  .colab-df-quickchart-complete:disabled:hover {\n",
              "    background-color: var(--disabled-bg-color);\n",
              "    fill: var(--disabled-fill-color);\n",
              "    box-shadow: none;\n",
              "  }\n",
              "\n",
              "  .colab-df-spinner {\n",
              "    border: 2px solid var(--fill-color);\n",
              "    border-color: transparent;\n",
              "    border-bottom-color: var(--fill-color);\n",
              "    animation:\n",
              "      spin 1s steps(1) infinite;\n",
              "  }\n",
              "\n",
              "  @keyframes spin {\n",
              "    0% {\n",
              "      border-color: transparent;\n",
              "      border-bottom-color: var(--fill-color);\n",
              "      border-left-color: var(--fill-color);\n",
              "    }\n",
              "    20% {\n",
              "      border-color: transparent;\n",
              "      border-left-color: var(--fill-color);\n",
              "      border-top-color: var(--fill-color);\n",
              "    }\n",
              "    30% {\n",
              "      border-color: transparent;\n",
              "      border-left-color: var(--fill-color);\n",
              "      border-top-color: var(--fill-color);\n",
              "      border-right-color: var(--fill-color);\n",
              "    }\n",
              "    40% {\n",
              "      border-color: transparent;\n",
              "      border-right-color: var(--fill-color);\n",
              "      border-top-color: var(--fill-color);\n",
              "    }\n",
              "    60% {\n",
              "      border-color: transparent;\n",
              "      border-right-color: var(--fill-color);\n",
              "    }\n",
              "    80% {\n",
              "      border-color: transparent;\n",
              "      border-right-color: var(--fill-color);\n",
              "      border-bottom-color: var(--fill-color);\n",
              "    }\n",
              "    90% {\n",
              "      border-color: transparent;\n",
              "      border-bottom-color: var(--fill-color);\n",
              "    }\n",
              "  }\n",
              "</style>\n",
              "\n",
              "  <script>\n",
              "    async function quickchart(key) {\n",
              "      const quickchartButtonEl =\n",
              "        document.querySelector('#' + key + ' button');\n",
              "      quickchartButtonEl.disabled = true;  // To prevent multiple clicks.\n",
              "      quickchartButtonEl.classList.add('colab-df-spinner');\n",
              "      try {\n",
              "        const charts = await google.colab.kernel.invokeFunction(\n",
              "            'suggestCharts', [key], {});\n",
              "      } catch (error) {\n",
              "        console.error('Error during call to suggestCharts:', error);\n",
              "      }\n",
              "      quickchartButtonEl.classList.remove('colab-df-spinner');\n",
              "      quickchartButtonEl.classList.add('colab-df-quickchart-complete');\n",
              "    }\n",
              "    (() => {\n",
              "      let quickchartButtonEl =\n",
              "        document.querySelector('#df-6e304929-75fa-4db8-b05a-f7e107eb8274 button');\n",
              "      quickchartButtonEl.style.display =\n",
              "        google.colab.kernel.accessAllowed ? 'block' : 'none';\n",
              "    })();\n",
              "  </script>\n",
              "</div>\n",
              "\n",
              "    </div>\n",
              "  </div>\n"
            ]
          },
          "metadata": {},
          "execution_count": 40
        }
      ],
      "source": [
        "categorical_columns = merged_df.select_dtypes(include='object').columns\n",
        "\n",
        "label_encoder = LabelEncoder()\n",
        "\n",
        "# Apply LabelEncoder to each categorical column using apply function\n",
        "merged_df[categorical_columns] = merged_df[categorical_columns].apply(lambda col: label_encoder.fit_transform(col))\n",
        "\n",
        "# Display the transformed DataFrame\n",
        "merged_df.head()"
      ]
    },
    {
      "cell_type": "markdown",
      "id": "a950a110",
      "metadata": {
        "id": "a950a110"
      },
      "source": [
        "### Now to compute correlations between all the different numerical columns we can use the corr() method."
      ]
    },
    {
      "cell_type": "code",
      "execution_count": 41,
      "id": "c2e52cb1",
      "metadata": {
        "colab": {
          "base_uri": "https://localhost:8080/",
          "height": 256
        },
        "id": "c2e52cb1",
        "outputId": "6d05b3fc-e5ce-4943-e8c6-0df49546f5eb"
      },
      "outputs": [
        {
          "output_type": "execute_result",
          "data": {
            "text/plain": [
              "               customerID    gender  SeniorCitizen   Partner  Dependents  \\\n",
              "customerID       1.000000  0.007101       0.007435 -0.021742   -0.015956   \n",
              "gender           0.007101  1.000000      -0.000592  0.001504    0.012440   \n",
              "SeniorCitizen    0.007435 -0.000592       1.000000  0.014985   -0.212088   \n",
              "Partner         -0.021742  0.001504       0.014985  1.000000    0.452844   \n",
              "Dependents      -0.015956  0.012440      -0.212088  0.452844    1.000000   \n",
              "\n",
              "                 tenure  PhoneService  MultipleLines  InternetService  \\\n",
              "customerID     0.005684      0.000741       0.007090        -0.012646   \n",
              "gender         0.003134     -0.006774      -0.011482         0.000891   \n",
              "SeniorCitizen  0.020580      0.014691       0.152737        -0.027904   \n",
              "Partner        0.383087      0.018511       0.144293         0.000894   \n",
              "Dependents     0.160970     -0.005547      -0.027100         0.046720   \n",
              "\n",
              "               OnlineSecurity  ...  StreamingTV  StreamingMovies  Contract  \\\n",
              "customerID           0.013514  ...    -0.007542        -0.017401  0.012500   \n",
              "gender              -0.009206  ...    -0.005163        -0.012134 -0.004478   \n",
              "SeniorCitizen       -0.131866  ...     0.033690         0.047836 -0.137404   \n",
              "Partner              0.152522  ...     0.135326         0.131306  0.300403   \n",
              "Dependents           0.150180  ...     0.040508         0.017386  0.242707   \n",
              "\n",
              "               PaperlessBilling  PaymentMethod  MonthlyCharges  TotalCharges  \\\n",
              "customerID             0.000877       0.014463       -0.000909     -0.000870   \n",
              "gender                -0.008739       0.015942       -0.017144     -0.003852   \n",
              "SeniorCitizen          0.159801      -0.041387        0.225886      0.108341   \n",
              "Partner               -0.015278      -0.158435        0.098093      0.321556   \n",
              "Dependents            -0.111207      -0.047360       -0.120344      0.060648   \n",
              "\n",
              "                  Churn  MonthlyCharges_zscore  TotalCharges_zscore  \n",
              "customerID    -0.012163              -0.000909                  NaN  \n",
              "gender        -0.009372              -0.017144                  NaN  \n",
              "SeniorCitizen  0.154440               0.225886                  NaN  \n",
              "Partner       -0.152172               0.098093                  NaN  \n",
              "Dependents    -0.163719              -0.120344                  NaN  \n",
              "\n",
              "[5 rows x 23 columns]"
            ],
            "text/html": [
              "\n",
              "  <div id=\"df-f1548553-0a52-4866-9cef-a3bebce2be4d\" class=\"colab-df-container\">\n",
              "    <div>\n",
              "<style scoped>\n",
              "    .dataframe tbody tr th:only-of-type {\n",
              "        vertical-align: middle;\n",
              "    }\n",
              "\n",
              "    .dataframe tbody tr th {\n",
              "        vertical-align: top;\n",
              "    }\n",
              "\n",
              "    .dataframe thead th {\n",
              "        text-align: right;\n",
              "    }\n",
              "</style>\n",
              "<table border=\"1\" class=\"dataframe\">\n",
              "  <thead>\n",
              "    <tr style=\"text-align: right;\">\n",
              "      <th></th>\n",
              "      <th>customerID</th>\n",
              "      <th>gender</th>\n",
              "      <th>SeniorCitizen</th>\n",
              "      <th>Partner</th>\n",
              "      <th>Dependents</th>\n",
              "      <th>tenure</th>\n",
              "      <th>PhoneService</th>\n",
              "      <th>MultipleLines</th>\n",
              "      <th>InternetService</th>\n",
              "      <th>OnlineSecurity</th>\n",
              "      <th>...</th>\n",
              "      <th>StreamingTV</th>\n",
              "      <th>StreamingMovies</th>\n",
              "      <th>Contract</th>\n",
              "      <th>PaperlessBilling</th>\n",
              "      <th>PaymentMethod</th>\n",
              "      <th>MonthlyCharges</th>\n",
              "      <th>TotalCharges</th>\n",
              "      <th>Churn</th>\n",
              "      <th>MonthlyCharges_zscore</th>\n",
              "      <th>TotalCharges_zscore</th>\n",
              "    </tr>\n",
              "  </thead>\n",
              "  <tbody>\n",
              "    <tr>\n",
              "      <th>customerID</th>\n",
              "      <td>1.000000</td>\n",
              "      <td>0.007101</td>\n",
              "      <td>0.007435</td>\n",
              "      <td>-0.021742</td>\n",
              "      <td>-0.015956</td>\n",
              "      <td>0.005684</td>\n",
              "      <td>0.000741</td>\n",
              "      <td>0.007090</td>\n",
              "      <td>-0.012646</td>\n",
              "      <td>0.013514</td>\n",
              "      <td>...</td>\n",
              "      <td>-0.007542</td>\n",
              "      <td>-0.017401</td>\n",
              "      <td>0.012500</td>\n",
              "      <td>0.000877</td>\n",
              "      <td>0.014463</td>\n",
              "      <td>-0.000909</td>\n",
              "      <td>-0.000870</td>\n",
              "      <td>-0.012163</td>\n",
              "      <td>-0.000909</td>\n",
              "      <td>NaN</td>\n",
              "    </tr>\n",
              "    <tr>\n",
              "      <th>gender</th>\n",
              "      <td>0.007101</td>\n",
              "      <td>1.000000</td>\n",
              "      <td>-0.000592</td>\n",
              "      <td>0.001504</td>\n",
              "      <td>0.012440</td>\n",
              "      <td>0.003134</td>\n",
              "      <td>-0.006774</td>\n",
              "      <td>-0.011482</td>\n",
              "      <td>0.000891</td>\n",
              "      <td>-0.009206</td>\n",
              "      <td>...</td>\n",
              "      <td>-0.005163</td>\n",
              "      <td>-0.012134</td>\n",
              "      <td>-0.004478</td>\n",
              "      <td>-0.008739</td>\n",
              "      <td>0.015942</td>\n",
              "      <td>-0.017144</td>\n",
              "      <td>-0.003852</td>\n",
              "      <td>-0.009372</td>\n",
              "      <td>-0.017144</td>\n",
              "      <td>NaN</td>\n",
              "    </tr>\n",
              "    <tr>\n",
              "      <th>SeniorCitizen</th>\n",
              "      <td>0.007435</td>\n",
              "      <td>-0.000592</td>\n",
              "      <td>1.000000</td>\n",
              "      <td>0.014985</td>\n",
              "      <td>-0.212088</td>\n",
              "      <td>0.020580</td>\n",
              "      <td>0.014691</td>\n",
              "      <td>0.152737</td>\n",
              "      <td>-0.027904</td>\n",
              "      <td>-0.131866</td>\n",
              "      <td>...</td>\n",
              "      <td>0.033690</td>\n",
              "      <td>0.047836</td>\n",
              "      <td>-0.137404</td>\n",
              "      <td>0.159801</td>\n",
              "      <td>-0.041387</td>\n",
              "      <td>0.225886</td>\n",
              "      <td>0.108341</td>\n",
              "      <td>0.154440</td>\n",
              "      <td>0.225886</td>\n",
              "      <td>NaN</td>\n",
              "    </tr>\n",
              "    <tr>\n",
              "      <th>Partner</th>\n",
              "      <td>-0.021742</td>\n",
              "      <td>0.001504</td>\n",
              "      <td>0.014985</td>\n",
              "      <td>1.000000</td>\n",
              "      <td>0.452844</td>\n",
              "      <td>0.383087</td>\n",
              "      <td>0.018511</td>\n",
              "      <td>0.144293</td>\n",
              "      <td>0.000894</td>\n",
              "      <td>0.152522</td>\n",
              "      <td>...</td>\n",
              "      <td>0.135326</td>\n",
              "      <td>0.131306</td>\n",
              "      <td>0.300403</td>\n",
              "      <td>-0.015278</td>\n",
              "      <td>-0.158435</td>\n",
              "      <td>0.098093</td>\n",
              "      <td>0.321556</td>\n",
              "      <td>-0.152172</td>\n",
              "      <td>0.098093</td>\n",
              "      <td>NaN</td>\n",
              "    </tr>\n",
              "    <tr>\n",
              "      <th>Dependents</th>\n",
              "      <td>-0.015956</td>\n",
              "      <td>0.012440</td>\n",
              "      <td>-0.212088</td>\n",
              "      <td>0.452844</td>\n",
              "      <td>1.000000</td>\n",
              "      <td>0.160970</td>\n",
              "      <td>-0.005547</td>\n",
              "      <td>-0.027100</td>\n",
              "      <td>0.046720</td>\n",
              "      <td>0.150180</td>\n",
              "      <td>...</td>\n",
              "      <td>0.040508</td>\n",
              "      <td>0.017386</td>\n",
              "      <td>0.242707</td>\n",
              "      <td>-0.111207</td>\n",
              "      <td>-0.047360</td>\n",
              "      <td>-0.120344</td>\n",
              "      <td>0.060648</td>\n",
              "      <td>-0.163719</td>\n",
              "      <td>-0.120344</td>\n",
              "      <td>NaN</td>\n",
              "    </tr>\n",
              "  </tbody>\n",
              "</table>\n",
              "<p>5 rows × 23 columns</p>\n",
              "</div>\n",
              "    <div class=\"colab-df-buttons\">\n",
              "\n",
              "  <div class=\"colab-df-container\">\n",
              "    <button class=\"colab-df-convert\" onclick=\"convertToInteractive('df-f1548553-0a52-4866-9cef-a3bebce2be4d')\"\n",
              "            title=\"Convert this dataframe to an interactive table.\"\n",
              "            style=\"display:none;\">\n",
              "\n",
              "  <svg xmlns=\"http://www.w3.org/2000/svg\" height=\"24px\" viewBox=\"0 -960 960 960\">\n",
              "    <path d=\"M120-120v-720h720v720H120Zm60-500h600v-160H180v160Zm220 220h160v-160H400v160Zm0 220h160v-160H400v160ZM180-400h160v-160H180v160Zm440 0h160v-160H620v160ZM180-180h160v-160H180v160Zm440 0h160v-160H620v160Z\"/>\n",
              "  </svg>\n",
              "    </button>\n",
              "\n",
              "  <style>\n",
              "    .colab-df-container {\n",
              "      display:flex;\n",
              "      gap: 12px;\n",
              "    }\n",
              "\n",
              "    .colab-df-convert {\n",
              "      background-color: #E8F0FE;\n",
              "      border: none;\n",
              "      border-radius: 50%;\n",
              "      cursor: pointer;\n",
              "      display: none;\n",
              "      fill: #1967D2;\n",
              "      height: 32px;\n",
              "      padding: 0 0 0 0;\n",
              "      width: 32px;\n",
              "    }\n",
              "\n",
              "    .colab-df-convert:hover {\n",
              "      background-color: #E2EBFA;\n",
              "      box-shadow: 0px 1px 2px rgba(60, 64, 67, 0.3), 0px 1px 3px 1px rgba(60, 64, 67, 0.15);\n",
              "      fill: #174EA6;\n",
              "    }\n",
              "\n",
              "    .colab-df-buttons div {\n",
              "      margin-bottom: 4px;\n",
              "    }\n",
              "\n",
              "    [theme=dark] .colab-df-convert {\n",
              "      background-color: #3B4455;\n",
              "      fill: #D2E3FC;\n",
              "    }\n",
              "\n",
              "    [theme=dark] .colab-df-convert:hover {\n",
              "      background-color: #434B5C;\n",
              "      box-shadow: 0px 1px 3px 1px rgba(0, 0, 0, 0.15);\n",
              "      filter: drop-shadow(0px 1px 2px rgba(0, 0, 0, 0.3));\n",
              "      fill: #FFFFFF;\n",
              "    }\n",
              "  </style>\n",
              "\n",
              "    <script>\n",
              "      const buttonEl =\n",
              "        document.querySelector('#df-f1548553-0a52-4866-9cef-a3bebce2be4d button.colab-df-convert');\n",
              "      buttonEl.style.display =\n",
              "        google.colab.kernel.accessAllowed ? 'block' : 'none';\n",
              "\n",
              "      async function convertToInteractive(key) {\n",
              "        const element = document.querySelector('#df-f1548553-0a52-4866-9cef-a3bebce2be4d');\n",
              "        const dataTable =\n",
              "          await google.colab.kernel.invokeFunction('convertToInteractive',\n",
              "                                                    [key], {});\n",
              "        if (!dataTable) return;\n",
              "\n",
              "        const docLinkHtml = 'Like what you see? Visit the ' +\n",
              "          '<a target=\"_blank\" href=https://colab.research.google.com/notebooks/data_table.ipynb>data table notebook</a>'\n",
              "          + ' to learn more about interactive tables.';\n",
              "        element.innerHTML = '';\n",
              "        dataTable['output_type'] = 'display_data';\n",
              "        await google.colab.output.renderOutput(dataTable, element);\n",
              "        const docLink = document.createElement('div');\n",
              "        docLink.innerHTML = docLinkHtml;\n",
              "        element.appendChild(docLink);\n",
              "      }\n",
              "    </script>\n",
              "  </div>\n",
              "\n",
              "\n",
              "<div id=\"df-d5d30acb-00f1-4dc1-aa91-bea87bdb76c0\">\n",
              "  <button class=\"colab-df-quickchart\" onclick=\"quickchart('df-d5d30acb-00f1-4dc1-aa91-bea87bdb76c0')\"\n",
              "            title=\"Suggest charts\"\n",
              "            style=\"display:none;\">\n",
              "\n",
              "<svg xmlns=\"http://www.w3.org/2000/svg\" height=\"24px\"viewBox=\"0 0 24 24\"\n",
              "     width=\"24px\">\n",
              "    <g>\n",
              "        <path d=\"M19 3H5c-1.1 0-2 .9-2 2v14c0 1.1.9 2 2 2h14c1.1 0 2-.9 2-2V5c0-1.1-.9-2-2-2zM9 17H7v-7h2v7zm4 0h-2V7h2v10zm4 0h-2v-4h2v4z\"/>\n",
              "    </g>\n",
              "</svg>\n",
              "  </button>\n",
              "\n",
              "<style>\n",
              "  .colab-df-quickchart {\n",
              "      --bg-color: #E8F0FE;\n",
              "      --fill-color: #1967D2;\n",
              "      --hover-bg-color: #E2EBFA;\n",
              "      --hover-fill-color: #174EA6;\n",
              "      --disabled-fill-color: #AAA;\n",
              "      --disabled-bg-color: #DDD;\n",
              "  }\n",
              "\n",
              "  [theme=dark] .colab-df-quickchart {\n",
              "      --bg-color: #3B4455;\n",
              "      --fill-color: #D2E3FC;\n",
              "      --hover-bg-color: #434B5C;\n",
              "      --hover-fill-color: #FFFFFF;\n",
              "      --disabled-bg-color: #3B4455;\n",
              "      --disabled-fill-color: #666;\n",
              "  }\n",
              "\n",
              "  .colab-df-quickchart {\n",
              "    background-color: var(--bg-color);\n",
              "    border: none;\n",
              "    border-radius: 50%;\n",
              "    cursor: pointer;\n",
              "    display: none;\n",
              "    fill: var(--fill-color);\n",
              "    height: 32px;\n",
              "    padding: 0;\n",
              "    width: 32px;\n",
              "  }\n",
              "\n",
              "  .colab-df-quickchart:hover {\n",
              "    background-color: var(--hover-bg-color);\n",
              "    box-shadow: 0 1px 2px rgba(60, 64, 67, 0.3), 0 1px 3px 1px rgba(60, 64, 67, 0.15);\n",
              "    fill: var(--button-hover-fill-color);\n",
              "  }\n",
              "\n",
              "  .colab-df-quickchart-complete:disabled,\n",
              "  .colab-df-quickchart-complete:disabled:hover {\n",
              "    background-color: var(--disabled-bg-color);\n",
              "    fill: var(--disabled-fill-color);\n",
              "    box-shadow: none;\n",
              "  }\n",
              "\n",
              "  .colab-df-spinner {\n",
              "    border: 2px solid var(--fill-color);\n",
              "    border-color: transparent;\n",
              "    border-bottom-color: var(--fill-color);\n",
              "    animation:\n",
              "      spin 1s steps(1) infinite;\n",
              "  }\n",
              "\n",
              "  @keyframes spin {\n",
              "    0% {\n",
              "      border-color: transparent;\n",
              "      border-bottom-color: var(--fill-color);\n",
              "      border-left-color: var(--fill-color);\n",
              "    }\n",
              "    20% {\n",
              "      border-color: transparent;\n",
              "      border-left-color: var(--fill-color);\n",
              "      border-top-color: var(--fill-color);\n",
              "    }\n",
              "    30% {\n",
              "      border-color: transparent;\n",
              "      border-left-color: var(--fill-color);\n",
              "      border-top-color: var(--fill-color);\n",
              "      border-right-color: var(--fill-color);\n",
              "    }\n",
              "    40% {\n",
              "      border-color: transparent;\n",
              "      border-right-color: var(--fill-color);\n",
              "      border-top-color: var(--fill-color);\n",
              "    }\n",
              "    60% {\n",
              "      border-color: transparent;\n",
              "      border-right-color: var(--fill-color);\n",
              "    }\n",
              "    80% {\n",
              "      border-color: transparent;\n",
              "      border-right-color: var(--fill-color);\n",
              "      border-bottom-color: var(--fill-color);\n",
              "    }\n",
              "    90% {\n",
              "      border-color: transparent;\n",
              "      border-bottom-color: var(--fill-color);\n",
              "    }\n",
              "  }\n",
              "</style>\n",
              "\n",
              "  <script>\n",
              "    async function quickchart(key) {\n",
              "      const quickchartButtonEl =\n",
              "        document.querySelector('#' + key + ' button');\n",
              "      quickchartButtonEl.disabled = true;  // To prevent multiple clicks.\n",
              "      quickchartButtonEl.classList.add('colab-df-spinner');\n",
              "      try {\n",
              "        const charts = await google.colab.kernel.invokeFunction(\n",
              "            'suggestCharts', [key], {});\n",
              "      } catch (error) {\n",
              "        console.error('Error during call to suggestCharts:', error);\n",
              "      }\n",
              "      quickchartButtonEl.classList.remove('colab-df-spinner');\n",
              "      quickchartButtonEl.classList.add('colab-df-quickchart-complete');\n",
              "    }\n",
              "    (() => {\n",
              "      let quickchartButtonEl =\n",
              "        document.querySelector('#df-d5d30acb-00f1-4dc1-aa91-bea87bdb76c0 button');\n",
              "      quickchartButtonEl.style.display =\n",
              "        google.colab.kernel.accessAllowed ? 'block' : 'none';\n",
              "    })();\n",
              "  </script>\n",
              "</div>\n",
              "\n",
              "    </div>\n",
              "  </div>\n"
            ]
          },
          "metadata": {},
          "execution_count": 41
        }
      ],
      "source": [
        "corr = merged_df.corr()\n",
        "corr.head()"
      ]
    },
    {
      "cell_type": "code",
      "execution_count": 42,
      "id": "a1cbdb99",
      "metadata": {
        "colab": {
          "base_uri": "https://localhost:8080/",
          "height": 695
        },
        "id": "a1cbdb99",
        "outputId": "1db5e022-30c8-4ef7-f214-c201224ffbaa"
      },
      "outputs": [
        {
          "output_type": "display_data",
          "data": {
            "text/plain": [
              "<Figure size 800x600 with 2 Axes>"
            ],
            "image/png": "[encoded data removed]"
          },
          "metadata": {}
        }
      ],
      "source": [
        "plt.figure(figsize=(8, 6))\n",
        "heatmap = sns.heatmap(corr, cmap='viridis', annot=True, fmt='.2f', linewidths=0.5)\n",
        "plt.yticks(rotation=0)\n",
        "plt.title('Correlation Heatmap')# Set title and display the heatmap\n",
        "plt.show()"
      ]
    },
    {
      "cell_type": "markdown",
      "id": "f0174a86",
      "metadata": {
        "id": "f0174a86"
      },
      "source": [
        "## 4.2 | Splitting data into Train and Test"
      ]
    },
    {
      "cell_type": "code",
      "execution_count": 43,
      "id": "d29c962a",
      "metadata": {
        "id": "d29c962a"
      },
      "outputs": [],
      "source": [
        "#Creating two distinct sets from the dataset: one for training the model and another for testing its accuracy.\n",
        "#About 80% of the data is used for training, while the remaining 20% is kept aside to evaluate the model's performance.\n",
        "\n",
        "X = merged_df.drop('Churn', axis =1) #Assuming 'Churn' is the target column\n",
        "y = merged_df['Churn']\n",
        "\n",
        "\n",
        "X_train, X_test, y_train, y_test = train_test_split(X, y, test_size=0.2, random_state=0)"
      ]
    },
    {
      "cell_type": "code",
      "execution_count": 44,
      "id": "58026d5d",
      "metadata": {
        "colab": {
          "base_uri": "https://localhost:8080/"
        },
        "id": "58026d5d",
        "outputId": "b813fe51-3fa3-4f58-e467-69c6d093c443"
      },
      "outputs": [
        {
          "output_type": "stream",
          "name": "stdout",
          "text": [
            "Total Entries: 6541\n",
            "\n",
            "Training Entries: 5232\n",
            "\n",
            "Test Entries: 1309\n"
          ]
        }
      ],
      "source": [
        "print ('Total Entries:', len(merged_df))\n",
        "\n",
        "print('\\nTraining Entries:', len(X_train))\n",
        "\n",
        "print('\\nTest Entries:', len(y_test))"
      ]
    },
    {
      "cell_type": "markdown",
      "id": "08cdfd90",
      "metadata": {
        "id": "08cdfd90"
      },
      "source": [
        "## 4.3 | Making Linear Model"
      ]
    },
    {
      "cell_type": "code",
      "execution_count": 45,
      "id": "94aa2853",
      "metadata": {
        "id": "94aa2853"
      },
      "outputs": [],
      "source": [
        "#Importing Libraries\n",
        "from sklearn.linear_model import LinearRegression\n",
        "from sklearn.metrics import mean_squared_error, r2_score"
      ]
    },
    {
      "cell_type": "code",
      "execution_count": 46,
      "id": "eef43ea7",
      "metadata": {
        "colab": {
          "base_uri": "https://localhost:8080/"
        },
        "id": "eef43ea7",
        "outputId": "71535eec-0745-4780-c527-7d2f691c8dd6"
      },
      "outputs": [
        {
          "output_type": "execute_result",
          "data": {
            "text/plain": [
              "customerID                  0\n",
              "gender                      0\n",
              "SeniorCitizen               0\n",
              "Partner                     0\n",
              "Dependents                  0\n",
              "tenure                      0\n",
              "PhoneService                0\n",
              "MultipleLines               0\n",
              "InternetService             0\n",
              "OnlineSecurity              0\n",
              "OnlineBackup                0\n",
              "DeviceProtection            0\n",
              "TechSupport                 0\n",
              "StreamingTV                 0\n",
              "StreamingMovies             0\n",
              "Contract                    0\n",
              "PaperlessBilling            0\n",
              "PaymentMethod               0\n",
              "MonthlyCharges              0\n",
              "TotalCharges                8\n",
              "Churn                       0\n",
              "MonthlyCharges_zscore       0\n",
              "TotalCharges_zscore      6541\n",
              "dtype: int64"
            ]
          },
          "metadata": {},
          "execution_count": 46
        }
      ],
      "source": [
        "missing_values = merged_df.isnull().sum()\n",
        "missing_values"
      ]
    },
    {
      "cell_type": "code",
      "execution_count": 47,
      "id": "6b8550df",
      "metadata": {
        "colab": {
          "base_uri": "https://localhost:8080/"
        },
        "id": "6b8550df",
        "outputId": "53f6d5bb-1e8a-43ed-e331-6ad79a2aac19"
      },
      "outputs": [
        {
          "output_type": "stream",
          "name": "stdout",
          "text": [
            "      customerID  gender  SeniorCitizen  Partner  Dependents  tenure  \\\n",
            "253         2033       1              0        0           1       0   \n",
            "436         3769       0              0        1           1       0   \n",
            "582         2842       1              0        1           1       0   \n",
            "840          876       0              0        1           1       0   \n",
            "2831        5036       1              0        1           1       0   \n",
            "3326        2100       1              0        1           1       0   \n",
            "3880        1620       0              0        1           1       0   \n",
            "4718        1895       1              0        1           1       0   \n",
            "\n",
            "      PhoneService  MultipleLines  InternetService  OnlineSecurity  ...  \\\n",
            "253              1              0                2               1  ...   \n",
            "436              1              0                0               2  ...   \n",
            "582              1              2                2               1  ...   \n",
            "840              0              1                0               2  ...   \n",
            "2831             1              0                2               1  ...   \n",
            "3326             1              2                2               1  ...   \n",
            "3880             1              0                2               1  ...   \n",
            "4718             1              0                2               1  ...   \n",
            "\n",
            "      StreamingTV  StreamingMovies  Contract  PaperlessBilling  PaymentMethod  \\\n",
            "253             1                1         2                 0              3   \n",
            "436             2                2         2                 0              3   \n",
            "582             1                1         2                 0              3   \n",
            "840             2                0         2                 0              1   \n",
            "2831            1                1         2                 0              3   \n",
            "3326            1                1         2                 0              3   \n",
            "3880            1                1         2                 0              3   \n",
            "4718            1                1         1                 1              3   \n",
            "\n",
            "      MonthlyCharges  TotalCharges  Churn  MonthlyCharges_zscore  \\\n",
            "253            20.25           NaN      0              -1.474076   \n",
            "436            80.85           NaN      0               0.537016   \n",
            "582            25.75           NaN      0              -1.291551   \n",
            "840            56.05           NaN      0              -0.286005   \n",
            "2831           19.85           NaN      0              -1.487350   \n",
            "3326           25.35           NaN      0              -1.304825   \n",
            "3880           20.00           NaN      0              -1.482372   \n",
            "4718           19.70           NaN      0              -1.492328   \n",
            "\n",
            "      TotalCharges_zscore  \n",
            "253                   NaN  \n",
            "436                   NaN  \n",
            "582                   NaN  \n",
            "840                   NaN  \n",
            "2831                  NaN  \n",
            "3326                  NaN  \n",
            "3880                  NaN  \n",
            "4718                  NaN  \n",
            "\n",
            "[8 rows x 23 columns]\n"
          ]
        }
      ],
      "source": [
        "missing_total_charges = merged_df[merged_df['TotalCharges'].isnull()]\n",
        "print(missing_total_charges)"
      ]
    },
    {
      "cell_type": "markdown",
      "id": "b636b1ad",
      "metadata": {
        "id": "b636b1ad"
      },
      "source": [
        "### Will remove these rows with tenure=0 as it is leading to TotalCharges being NaN"
      ]
    },
    {
      "cell_type": "code",
      "execution_count": 51,
      "id": "62f98118",
      "metadata": {
        "id": "62f98118",
        "colab": {
          "base_uri": "https://localhost:8080/"
        },
        "outputId": "0b145218-125d-4a66-8218-705aa3f0e774"
      },
      "outputs": [
        {
          "output_type": "execute_result",
          "data": {
            "text/plain": [
              "customerID          0\n",
              "gender              0\n",
              "SeniorCitizen       0\n",
              "Partner             0\n",
              "Dependents          0\n",
              "tenure              0\n",
              "PhoneService        0\n",
              "MultipleLines       0\n",
              "InternetService     0\n",
              "OnlineSecurity      0\n",
              "OnlineBackup        0\n",
              "DeviceProtection    0\n",
              "TechSupport         0\n",
              "StreamingTV         0\n",
              "StreamingMovies     0\n",
              "Contract            0\n",
              "PaperlessBilling    0\n",
              "PaymentMethod       0\n",
              "MonthlyCharges      0\n",
              "TotalCharges        0\n",
              "dtype: int64"
            ]
          },
          "metadata": {},
          "execution_count": 51
        }
      ],
      "source": [
        "#merged_df.dropna(subset=['TotalCharges'], inplace=True)\n",
        "#X_train.head()\n",
        "#X = merged_df.drop('Churn', axis =1) #Assuming 'Churn' is the target column\n",
        "#y = merged_df['Churn']\n",
        "#X_train.drop(columns=['TotalCharges_zscore'],inplace=True)\n",
        "#X_train.drop(columns=['MonthlyCharges_zscore'],inplace=True)\n",
        "#y_train.head()\n",
        "merged_df.dropna(subset=['TotalCharges'], inplace=True)\n",
        "merged_df.drop(columns=['TotalCharges_zscore'],inplace=True)\n",
        "merged_df.drop(columns=['MonthlyCharges_zscore'],inplace=True)\n",
        "X = merged_df.drop('Churn', axis=1)  # Assuming 'Churn' is the target column\n",
        "y = merged_df['Churn']\n",
        "X_train, X_test, y_train, y_test = train_test_split(X, y, test_size=0.2, random_state=0)\n",
        "X_train.isnull().sum()"
      ]
    },
    {
      "cell_type": "code",
      "execution_count": 52,
      "id": "158e8c4e",
      "metadata": {
        "colab": {
          "base_uri": "https://localhost:8080/",
          "height": 75
        },
        "id": "158e8c4e",
        "outputId": "ab5e8cd2-c416-4586-a5ce-b7a9e46c6c05"
      },
      "outputs": [
        {
          "output_type": "execute_result",
          "data": {
            "text/plain": [
              "LinearRegression()"
            ],
            "text/html": [
              "<style>#sk-container-id-1 {color: black;background-color: white;}#sk-container-id-1 pre{padding: 0;}#sk-container-id-1 div.sk-toggleable {background-color: white;}#sk-container-id-1 label.sk-toggleable__label {cursor: pointer;display: block;width: 100%;margin-bottom: 0;padding: 0.3em;box-sizing: border-box;text-align: center;}#sk-container-id-1 label.sk-toggleable__label-arrow:before {content: \"▸\";float: left;margin-right: 0.25em;color: #696969;}#sk-container-id-1 label.sk-toggleable__label-arrow:hover:before {color: black;}#sk-container-id-1 div.sk-estimator:hover label.sk-toggleable__label-arrow:before {color: black;}#sk-container-id-1 div.sk-toggleable__content {max-height: 0;max-width: 0;overflow: hidden;text-align: left;background-color: #f0f8ff;}#sk-container-id-1 div.sk-toggleable__content pre {margin: 0.2em;color: black;border-radius: 0.25em;background-color: #f0f8ff;}#sk-container-id-1 input.sk-toggleable__control:checked~div.sk-toggleable__content {max-height: 200px;max-width: 100%;overflow: auto;}#sk-container-id-1 input.sk-toggleable__control:checked~label.sk-toggleable__label-arrow:before {content: \"▾\";}#sk-container-id-1 div.sk-estimator input.sk-toggleable__control:checked~label.sk-toggleable__label {background-color: #d4ebff;}#sk-container-id-1 div.sk-label input.sk-toggleable__control:checked~label.sk-toggleable__label {background-color: #d4ebff;}#sk-container-id-1 input.sk-hidden--visually {border: 0;clip: rect(1px 1px 1px 1px);clip: rect(1px, 1px, 1px, 1px);height: 1px;margin: -1px;overflow: hidden;padding: 0;position: absolute;width: 1px;}#sk-container-id-1 div.sk-estimator {font-family: monospace;background-color: #f0f8ff;border: 1px dotted black;border-radius: 0.25em;box-sizing: border-box;margin-bottom: 0.5em;}#sk-container-id-1 div.sk-estimator:hover {background-color: #d4ebff;}#sk-container-id-1 div.sk-parallel-item::after {content: \"\";width: 100%;border-bottom: 1px solid gray;flex-grow: 1;}#sk-container-id-1 div.sk-label:hover label.sk-toggleable__label {background-color: #d4ebff;}#sk-container-id-1 div.sk-serial::before {content: \"\";position: absolute;border-left: 1px solid gray;box-sizing: border-box;top: 0;bottom: 0;left: 50%;z-index: 0;}#sk-container-id-1 div.sk-serial {display: flex;flex-direction: column;align-items: center;background-color: white;padding-right: 0.2em;padding-left: 0.2em;position: relative;}#sk-container-id-1 div.sk-item {position: relative;z-index: 1;}#sk-container-id-1 div.sk-parallel {display: flex;align-items: stretch;justify-content: center;background-color: white;position: relative;}#sk-container-id-1 div.sk-item::before, #sk-container-id-1 div.sk-parallel-item::before {content: \"\";position: absolute;border-left: 1px solid gray;box-sizing: border-box;top: 0;bottom: 0;left: 50%;z-index: -1;}#sk-container-id-1 div.sk-parallel-item {display: flex;flex-direction: column;z-index: 1;position: relative;background-color: white;}#sk-container-id-1 div.sk-parallel-item:first-child::after {align-self: flex-end;width: 50%;}#sk-container-id-1 div.sk-parallel-item:last-child::after {align-self: flex-start;width: 50%;}#sk-container-id-1 div.sk-parallel-item:only-child::after {width: 0;}#sk-container-id-1 div.sk-dashed-wrapped {border: 1px dashed gray;margin: 0 0.4em 0.5em 0.4em;box-sizing: border-box;padding-bottom: 0.4em;background-color: white;}#sk-container-id-1 div.sk-label label {font-family: monospace;font-weight: bold;display: inline-block;line-height: 1.2em;}#sk-container-id-1 div.sk-label-container {text-align: center;}#sk-container-id-1 div.sk-container {/* jupyter's `normalize.less` sets `[hidden] { display: none; }` but bootstrap.min.css set `[hidden] { display: none !important; }` so we also need the `!important` here to be able to override the default hidden behavior on the sphinx rendered scikit-learn.org. See: https://github.com/scikit-learn/scikit-learn/issues/21755 */display: inline-block !important;position: relative;}#sk-container-id-1 div.sk-text-repr-fallback {display: none;}</style><div id=\"sk-container-id-1\" class=\"sk-top-container\"><div class=\"sk-text-repr-fallback\"><pre>LinearRegression()</pre><b>In a Jupyter environment, please rerun this cell to show the HTML representation or trust the notebook. <br />On GitHub, the HTML representation is unable to render, please try loading this page with nbviewer.org.</b></div><div class=\"sk-container\" hidden><div class=\"sk-item\"><div class=\"sk-estimator sk-toggleable\"><input class=\"sk-toggleable__control sk-hidden--visually\" id=\"sk-estimator-id-1\" type=\"checkbox\" checked><label for=\"sk-estimator-id-1\" class=\"sk-toggleable__label sk-toggleable__label-arrow\">LinearRegression</label><div class=\"sk-toggleable__content\"><pre>LinearRegression()</pre></div></div></div></div></div>"
            ]
          },
          "metadata": {},
          "execution_count": 52
        }
      ],
      "source": [
        "model = LinearRegression()\n",
        "\n",
        "# Train the model using the training data\n",
        "model.fit(X_train, y_train)"
      ]
    },
    {
      "cell_type": "code",
      "execution_count": 53,
      "id": "bc9bb7b8",
      "metadata": {
        "id": "bc9bb7b8"
      },
      "outputs": [],
      "source": [
        "predictions = model.predict(X_test)\n"
      ]
    },
    {
      "cell_type": "markdown",
      "id": "d786e7ac",
      "metadata": {
        "id": "d786e7ac"
      },
      "source": [
        "### Evaluating Model performance"
      ]
    },
    {
      "cell_type": "code",
      "execution_count": 54,
      "id": "f7deb94c",
      "metadata": {
        "id": "f7deb94c"
      },
      "outputs": [],
      "source": [
        "predictions = predictions.astype(int)"
      ]
    },
    {
      "cell_type": "code",
      "execution_count": 55,
      "id": "6b605cdb",
      "metadata": {
        "id": "6b605cdb"
      },
      "outputs": [],
      "source": [
        "predict_df = pd.DataFrame({'Actual': y_test, 'Predicted': predictions})"
      ]
    },
    {
      "cell_type": "code",
      "execution_count": 56,
      "id": "d4cd0112",
      "metadata": {
        "id": "d4cd0112",
        "colab": {
          "base_uri": "https://localhost:8080/",
          "height": 424
        },
        "outputId": "4a6aeb6d-c0b6-45fc-9c06-7afe53807cb9"
      },
      "outputs": [
        {
          "output_type": "execute_result",
          "data": {
            "text/plain": [
              "      Actual  Predicted\n",
              "4357       0          0\n",
              "1549       0          0\n",
              "81         1          0\n",
              "2762       1          0\n",
              "3196       1          0\n",
              "...      ...        ...\n",
              "2290       1          0\n",
              "2025       0          0\n",
              "430        0          0\n",
              "704        0          0\n",
              "2775       0          0\n",
              "\n",
              "[1307 rows x 2 columns]"
            ],
            "text/html": [
              "\n",
              "  <div id=\"df-55986646-6652-4c30-b54d-d5d160aff712\" class=\"colab-df-container\">\n",
              "    <div>\n",
              "<style scoped>\n",
              "    .dataframe tbody tr th:only-of-type {\n",
              "        vertical-align: middle;\n",
              "    }\n",
              "\n",
              "    .dataframe tbody tr th {\n",
              "        vertical-align: top;\n",
              "    }\n",
              "\n",
              "    .dataframe thead th {\n",
              "        text-align: right;\n",
              "    }\n",
              "</style>\n",
              "<table border=\"1\" class=\"dataframe\">\n",
              "  <thead>\n",
              "    <tr style=\"text-align: right;\">\n",
              "      <th></th>\n",
              "      <th>Actual</th>\n",
              "      <th>Predicted</th>\n",
              "    </tr>\n",
              "  </thead>\n",
              "  <tbody>\n",
              "    <tr>\n",
              "      <th>4357</th>\n",
              "      <td>0</td>\n",
              "      <td>0</td>\n",
              "    </tr>\n",
              "    <tr>\n",
              "      <th>1549</th>\n",
              "      <td>0</td>\n",
              "      <td>0</td>\n",
              "    </tr>\n",
              "    <tr>\n",
              "      <th>81</th>\n",
              "      <td>1</td>\n",
              "      <td>0</td>\n",
              "    </tr>\n",
              "    <tr>\n",
              "      <th>2762</th>\n",
              "      <td>1</td>\n",
              "      <td>0</td>\n",
              "    </tr>\n",
              "    <tr>\n",
              "      <th>3196</th>\n",
              "      <td>1</td>\n",
              "      <td>0</td>\n",
              "    </tr>\n",
              "    <tr>\n",
              "      <th>...</th>\n",
              "      <td>...</td>\n",
              "      <td>...</td>\n",
              "    </tr>\n",
              "    <tr>\n",
              "      <th>2290</th>\n",
              "      <td>1</td>\n",
              "      <td>0</td>\n",
              "    </tr>\n",
              "    <tr>\n",
              "      <th>2025</th>\n",
              "      <td>0</td>\n",
              "      <td>0</td>\n",
              "    </tr>\n",
              "    <tr>\n",
              "      <th>430</th>\n",
              "      <td>0</td>\n",
              "      <td>0</td>\n",
              "    </tr>\n",
              "    <tr>\n",
              "      <th>704</th>\n",
              "      <td>0</td>\n",
              "      <td>0</td>\n",
              "    </tr>\n",
              "    <tr>\n",
              "      <th>2775</th>\n",
              "      <td>0</td>\n",
              "      <td>0</td>\n",
              "    </tr>\n",
              "  </tbody>\n",
              "</table>\n",
              "<p>1307 rows × 2 columns</p>\n",
              "</div>\n",
              "    <div class=\"colab-df-buttons\">\n",
              "\n",
              "  <div class=\"colab-df-container\">\n",
              "    <button class=\"colab-df-convert\" onclick=\"convertToInteractive('df-55986646-6652-4c30-b54d-d5d160aff712')\"\n",
              "            title=\"Convert this dataframe to an interactive table.\"\n",
              "            style=\"display:none;\">\n",
              "\n",
              "  <svg xmlns=\"http://www.w3.org/2000/svg\" height=\"24px\" viewBox=\"0 -960 960 960\">\n",
              "    <path d=\"M120-120v-720h720v720H120Zm60-500h600v-160H180v160Zm220 220h160v-160H400v160Zm0 220h160v-160H400v160ZM180-400h160v-160H180v160Zm440 0h160v-160H620v160ZM180-180h160v-160H180v160Zm440 0h160v-160H620v160Z\"/>\n",
              "  </svg>\n",
              "    </button>\n",
              "\n",
              "  <style>\n",
              "    .colab-df-container {\n",
              "      display:flex;\n",
              "      gap: 12px;\n",
              "    }\n",
              "\n",
              "    .colab-df-convert {\n",
              "      background-color: #E8F0FE;\n",
              "      border: none;\n",
              "      border-radius: 50%;\n",
              "      cursor: pointer;\n",
              "      display: none;\n",
              "      fill: #1967D2;\n",
              "      height: 32px;\n",
              "      padding: 0 0 0 0;\n",
              "      width: 32px;\n",
              "    }\n",
              "\n",
              "    .colab-df-convert:hover {\n",
              "      background-color: #E2EBFA;\n",
              "      box-shadow: 0px 1px 2px rgba(60, 64, 67, 0.3), 0px 1px 3px 1px rgba(60, 64, 67, 0.15);\n",
              "      fill: #174EA6;\n",
              "    }\n",
              "\n",
              "    .colab-df-buttons div {\n",
              "      margin-bottom: 4px;\n",
              "    }\n",
              "\n",
              "    [theme=dark] .colab-df-convert {\n",
              "      background-color: #3B4455;\n",
              "      fill: #D2E3FC;\n",
              "    }\n",
              "\n",
              "    [theme=dark] .colab-df-convert:hover {\n",
              "      background-color: #434B5C;\n",
              "      box-shadow: 0px 1px 3px 1px rgba(0, 0, 0, 0.15);\n",
              "      filter: drop-shadow(0px 1px 2px rgba(0, 0, 0, 0.3));\n",
              "      fill: #FFFFFF;\n",
              "    }\n",
              "  </style>\n",
              "\n",
              "    <script>\n",
              "      const buttonEl =\n",
              "        document.querySelector('#df-55986646-6652-4c30-b54d-d5d160aff712 button.colab-df-convert');\n",
              "      buttonEl.style.display =\n",
              "        google.colab.kernel.accessAllowed ? 'block' : 'none';\n",
              "\n",
              "      async function convertToInteractive(key) {\n",
              "        const element = document.querySelector('#df-55986646-6652-4c30-b54d-d5d160aff712');\n",
              "        const dataTable =\n",
              "          await google.colab.kernel.invokeFunction('convertToInteractive',\n",
              "                                                    [key], {});\n",
              "        if (!dataTable) return;\n",
              "\n",
              "        const docLinkHtml = 'Like what you see? Visit the ' +\n",
              "          '<a target=\"_blank\" href=https://colab.research.google.com/notebooks/data_table.ipynb>data table notebook</a>'\n",
              "          + ' to learn more about interactive tables.';\n",
              "        element.innerHTML = '';\n",
              "        dataTable['output_type'] = 'display_data';\n",
              "        await google.colab.output.renderOutput(dataTable, element);\n",
              "        const docLink = document.createElement('div');\n",
              "        docLink.innerHTML = docLinkHtml;\n",
              "        element.appendChild(docLink);\n",
              "      }\n",
              "    </script>\n",
              "  </div>\n",
              "\n",
              "\n",
              "<div id=\"df-e221a76e-d2cc-4ab9-9e32-fb0164133c00\">\n",
              "  <button class=\"colab-df-quickchart\" onclick=\"quickchart('df-e221a76e-d2cc-4ab9-9e32-fb0164133c00')\"\n",
              "            title=\"Suggest charts\"\n",
              "            style=\"display:none;\">\n",
              "\n",
              "<svg xmlns=\"http://www.w3.org/2000/svg\" height=\"24px\"viewBox=\"0 0 24 24\"\n",
              "     width=\"24px\">\n",
              "    <g>\n",
              "        <path d=\"M19 3H5c-1.1 0-2 .9-2 2v14c0 1.1.9 2 2 2h14c1.1 0 2-.9 2-2V5c0-1.1-.9-2-2-2zM9 17H7v-7h2v7zm4 0h-2V7h2v10zm4 0h-2v-4h2v4z\"/>\n",
              "    </g>\n",
              "</svg>\n",
              "  </button>\n",
              "\n",
              "<style>\n",
              "  .colab-df-quickchart {\n",
              "      --bg-color: #E8F0FE;\n",
              "      --fill-color: #1967D2;\n",
              "      --hover-bg-color: #E2EBFA;\n",
              "      --hover-fill-color: #174EA6;\n",
              "      --disabled-fill-color: #AAA;\n",
              "      --disabled-bg-color: #DDD;\n",
              "  }\n",
              "\n",
              "  [theme=dark] .colab-df-quickchart {\n",
              "      --bg-color: #3B4455;\n",
              "      --fill-color: #D2E3FC;\n",
              "      --hover-bg-color: #434B5C;\n",
              "      --hover-fill-color: #FFFFFF;\n",
              "      --disabled-bg-color: #3B4455;\n",
              "      --disabled-fill-color: #666;\n",
              "  }\n",
              "\n",
              "  .colab-df-quickchart {\n",
              "    background-color: var(--bg-color);\n",
              "    border: none;\n",
              "    border-radius: 50%;\n",
              "    cursor: pointer;\n",
              "    display: none;\n",
              "    fill: var(--fill-color);\n",
              "    height: 32px;\n",
              "    padding: 0;\n",
              "    width: 32px;\n",
              "  }\n",
              "\n",
              "  .colab-df-quickchart:hover {\n",
              "    background-color: var(--hover-bg-color);\n",
              "    box-shadow: 0 1px 2px rgba(60, 64, 67, 0.3), 0 1px 3px 1px rgba(60, 64, 67, 0.15);\n",
              "    fill: var(--button-hover-fill-color);\n",
              "  }\n",
              "\n",
              "  .colab-df-quickchart-complete:disabled,\n",
              "  .colab-df-quickchart-complete:disabled:hover {\n",
              "    background-color: var(--disabled-bg-color);\n",
              "    fill: var(--disabled-fill-color);\n",
              "    box-shadow: none;\n",
              "  }\n",
              "\n",
              "  .colab-df-spinner {\n",
              "    border: 2px solid var(--fill-color);\n",
              "    border-color: transparent;\n",
              "    border-bottom-color: var(--fill-color);\n",
              "    animation:\n",
              "      spin 1s steps(1) infinite;\n",
              "  }\n",
              "\n",
              "  @keyframes spin {\n",
              "    0% {\n",
              "      border-color: transparent;\n",
              "      border-bottom-color: var(--fill-color);\n",
              "      border-left-color: var(--fill-color);\n",
              "    }\n",
              "    20% {\n",
              "      border-color: transparent;\n",
              "      border-left-color: var(--fill-color);\n",
              "      border-top-color: var(--fill-color);\n",
              "    }\n",
              "    30% {\n",
              "      border-color: transparent;\n",
              "      border-left-color: var(--fill-color);\n",
              "      border-top-color: var(--fill-color);\n",
              "      border-right-color: var(--fill-color);\n",
              "    }\n",
              "    40% {\n",
              "      border-color: transparent;\n",
              "      border-right-color: var(--fill-color);\n",
              "      border-top-color: var(--fill-color);\n",
              "    }\n",
              "    60% {\n",
              "      border-color: transparent;\n",
              "      border-right-color: var(--fill-color);\n",
              "    }\n",
              "    80% {\n",
              "      border-color: transparent;\n",
              "      border-right-color: var(--fill-color);\n",
              "      border-bottom-color: var(--fill-color);\n",
              "    }\n",
              "    90% {\n",
              "      border-color: transparent;\n",
              "      border-bottom-color: var(--fill-color);\n",
              "    }\n",
              "  }\n",
              "</style>\n",
              "\n",
              "  <script>\n",
              "    async function quickchart(key) {\n",
              "      const quickchartButtonEl =\n",
              "        document.querySelector('#' + key + ' button');\n",
              "      quickchartButtonEl.disabled = true;  // To prevent multiple clicks.\n",
              "      quickchartButtonEl.classList.add('colab-df-spinner');\n",
              "      try {\n",
              "        const charts = await google.colab.kernel.invokeFunction(\n",
              "            'suggestCharts', [key], {});\n",
              "      } catch (error) {\n",
              "        console.error('Error during call to suggestCharts:', error);\n",
              "      }\n",
              "      quickchartButtonEl.classList.remove('colab-df-spinner');\n",
              "      quickchartButtonEl.classList.add('colab-df-quickchart-complete');\n",
              "    }\n",
              "    (() => {\n",
              "      let quickchartButtonEl =\n",
              "        document.querySelector('#df-e221a76e-d2cc-4ab9-9e32-fb0164133c00 button');\n",
              "      quickchartButtonEl.style.display =\n",
              "        google.colab.kernel.accessAllowed ? 'block' : 'none';\n",
              "    })();\n",
              "  </script>\n",
              "</div>\n",
              "\n",
              "  <div id=\"id_d09ad31c-affd-42fc-b6ca-4bc726dcf6f3\">\n",
              "    <style>\n",
              "      .colab-df-generate {\n",
              "        background-color: #E8F0FE;\n",
              "        border: none;\n",
              "        border-radius: 50%;\n",
              "        cursor: pointer;\n",
              "        display: none;\n",
              "        fill: #1967D2;\n",
              "        height: 32px;\n",
              "        padding: 0 0 0 0;\n",
              "        width: 32px;\n",
              "      }\n",
              "\n",
              "      .colab-df-generate:hover {\n",
              "        background-color: #E2EBFA;\n",
              "        box-shadow: 0px 1px 2px rgba(60, 64, 67, 0.3), 0px 1px 3px 1px rgba(60, 64, 67, 0.15);\n",
              "        fill: #174EA6;\n",
              "      }\n",
              "\n",
              "      [theme=dark] .colab-df-generate {\n",
              "        background-color: #3B4455;\n",
              "        fill: #D2E3FC;\n",
              "      }\n",
              "\n",
              "      [theme=dark] .colab-df-generate:hover {\n",
              "        background-color: #434B5C;\n",
              "        box-shadow: 0px 1px 3px 1px rgba(0, 0, 0, 0.15);\n",
              "        filter: drop-shadow(0px 1px 2px rgba(0, 0, 0, 0.3));\n",
              "        fill: #FFFFFF;\n",
              "      }\n",
              "    </style>\n",
              "    <button class=\"colab-df-generate\" onclick=\"generateWithVariable('predict_df')\"\n",
              "            title=\"Generate code using this dataframe.\"\n",
              "            style=\"display:none;\">\n",
              "\n",
              "  <svg xmlns=\"http://www.w3.org/2000/svg\" height=\"24px\"viewBox=\"0 0 24 24\"\n",
              "       width=\"24px\">\n",
              "    <path d=\"M7,19H8.4L18.45,9,17,7.55,7,17.6ZM5,21V16.75L18.45,3.32a2,2,0,0,1,2.83,0l1.4,1.43a1.91,1.91,0,0,1,.58,1.4,1.91,1.91,0,0,1-.58,1.4L9.25,21ZM18.45,9,17,7.55Zm-12,3A5.31,5.31,0,0,0,4.9,8.1,5.31,5.31,0,0,0,1,6.5,5.31,5.31,0,0,0,4.9,4.9,5.31,5.31,0,0,0,6.5,1,5.31,5.31,0,0,0,8.1,4.9,5.31,5.31,0,0,0,12,6.5,5.46,5.46,0,0,0,6.5,12Z\"/>\n",
              "  </svg>\n",
              "    </button>\n",
              "    <script>\n",
              "      (() => {\n",
              "      const buttonEl =\n",
              "        document.querySelector('#id_d09ad31c-affd-42fc-b6ca-4bc726dcf6f3 button.colab-df-generate');\n",
              "      buttonEl.style.display =\n",
              "        google.colab.kernel.accessAllowed ? 'block' : 'none';\n",
              "\n",
              "      buttonEl.onclick = () => {\n",
              "        google.colab.notebook.generateWithVariable('predict_df');\n",
              "      }\n",
              "      })();\n",
              "    </script>\n",
              "  </div>\n",
              "\n",
              "    </div>\n",
              "  </div>\n"
            ]
          },
          "metadata": {},
          "execution_count": 56
        }
      ],
      "source": [
        "predict_df"
      ]
    },
    {
      "cell_type": "code",
      "execution_count": 57,
      "id": "cd1b6372",
      "metadata": {
        "id": "cd1b6372",
        "colab": {
          "base_uri": "https://localhost:8080/"
        },
        "outputId": "5641304d-67ad-4c92-d4dd-ac0099c66640"
      },
      "outputs": [
        {
          "output_type": "stream",
          "name": "stdout",
          "text": [
            "Number of correct predictions: 978\n"
          ]
        }
      ],
      "source": [
        "correct_predictions = predict_df[predict_df['Actual'] == predict_df['Predicted']] #Calculating how many times model predicted correctly\n",
        "num_correct_predictions = len(correct_predictions)\n",
        "print(\"Number of correct predictions:\", num_correct_predictions)"
      ]
    },
    {
      "cell_type": "markdown",
      "id": "b2163d73",
      "metadata": {
        "id": "b2163d73"
      },
      "source": [
        "### By Linear Regression 978 predictions were made correctly out of 1307 entries. Therefore a 74.827% prediction rate.\n",
        "### Though I tested my dataset using Linear Regression at the very first(as an experiment) but it might not be the best choice for classification tasks like churn prediction since it's designed for regression problems. Therefore I'll make a Logistic regression model as it works well if the relationship between the features and the target isn't very complex"
      ]
    },
    {
      "cell_type": "markdown",
      "id": "c0a4f58e",
      "metadata": {
        "id": "c0a4f58e"
      },
      "source": [
        "## 4.4 | Logistic Regression"
      ]
    },
    {
      "cell_type": "code",
      "execution_count": 59,
      "id": "c06c8cf7",
      "metadata": {
        "id": "c06c8cf7",
        "colab": {
          "base_uri": "https://localhost:8080/"
        },
        "outputId": "c98f8883-478e-4e43-ece8-e90d02143869"
      },
      "outputs": [
        {
          "output_type": "stream",
          "name": "stdout",
          "text": [
            "Accuracy: 0.80\n"
          ]
        }
      ],
      "source": [
        "# Importing Important Libraries\n",
        "from sklearn.linear_model import LogisticRegression\n",
        "from sklearn.metrics import accuracy_score, classification_report, confusion_matrix\n",
        "\n",
        "logreg = LogisticRegression(max_iter=1000)\n",
        "logreg.fit(X_train, y_train)\n",
        "\n",
        "# Make predictions\n",
        "y_pred = logreg.predict(X_test)\n",
        "\n",
        "# Evaluate model\n",
        "accuracy = accuracy_score(y_test, y_pred)\n",
        "print(f\"Accuracy: {accuracy:.2f}\")\n",
        "\n"
      ]
    },
    {
      "cell_type": "code",
      "execution_count": 60,
      "id": "5e690fa6",
      "metadata": {
        "id": "5e690fa6",
        "colab": {
          "base_uri": "https://localhost:8080/"
        },
        "outputId": "abd2d706-fcd8-4778-d54e-ac2201a983fa"
      },
      "outputs": [
        {
          "output_type": "stream",
          "name": "stdout",
          "text": [
            "              precision    recall  f1-score   support\n",
            "\n",
            "           0       0.86      0.88      0.87       978\n",
            "           1       0.62      0.58      0.60       329\n",
            "\n",
            "    accuracy                           0.80      1307\n",
            "   macro avg       0.74      0.73      0.74      1307\n",
            "weighted avg       0.80      0.80      0.80      1307\n",
            "\n",
            "[[861 117]\n",
            " [138 191]]\n"
          ]
        }
      ],
      "source": [
        "# Other evaluation metrics\n",
        "print(classification_report(y_test, y_pred))\n",
        "print(confusion_matrix(y_test, y_pred))\n"
      ]
    },
    {
      "cell_type": "markdown",
      "id": "918e4023",
      "metadata": {
        "id": "918e4023"
      },
      "source": [
        "### We can see that the accuracy this time was about 80%, therefore the model made better predictions than Linear Regression. (which was the expected behaviour). Will make a Decision Tree model now as it is a powerful model for classification tasks such as Churn Prediction."
      ]
    },
    {
      "cell_type": "markdown",
      "id": "42caa392",
      "metadata": {
        "id": "42caa392"
      },
      "source": [
        "## 4.5 | Decision Tree Model"
      ]
    },
    {
      "cell_type": "code",
      "execution_count": 61,
      "id": "0e45399c",
      "metadata": {
        "id": "0e45399c"
      },
      "outputs": [],
      "source": [
        "from sklearn.tree import DecisionTreeClassifier\n",
        "\n",
        "# Create the Decision Tree model\n",
        "decision_tree = DecisionTreeClassifier(random_state=0)\n",
        "\n",
        "# Fit the model on the training data\n",
        "decision_tree.fit(X_train, y_train)\n",
        "\n",
        "# Make predictions on the test set\n",
        "y_pred_dt = decision_tree.predict(X_test)\n"
      ]
    },
    {
      "cell_type": "code",
      "execution_count": 62,
      "id": "8d03df36",
      "metadata": {
        "id": "8d03df36",
        "colab": {
          "base_uri": "https://localhost:8080/"
        },
        "outputId": "ff1caa34-a276-4608-abb1-2c0fd6f8427e"
      },
      "outputs": [
        {
          "output_type": "stream",
          "name": "stdout",
          "text": [
            "Accuracy of Decision Tree: 0.7528691660290742\n",
            "              precision    recall  f1-score   support\n",
            "\n",
            "           0       0.83      0.85      0.84       978\n",
            "           1       0.51      0.48      0.49       329\n",
            "\n",
            "    accuracy                           0.75      1307\n",
            "   macro avg       0.67      0.66      0.66      1307\n",
            "weighted avg       0.75      0.75      0.75      1307\n",
            "\n",
            "Confusion Matrix for Decision Tree:\n",
            "[[827 151]\n",
            " [172 157]]\n"
          ]
        }
      ],
      "source": [
        "accuracy_dt = accuracy_score(y_test, y_pred_dt)\n",
        "print(\"Accuracy of Decision Tree:\", accuracy_dt)\n",
        "\n",
        "# Classification report\n",
        "print(classification_report(y_test, y_pred_dt))\n",
        "\n",
        "# Confusion Matrix\n",
        "conf_matrix_dt = confusion_matrix(y_test, y_pred_dt)\n",
        "print(\"Confusion Matrix for Decision Tree:\")\n",
        "print(conf_matrix_dt)"
      ]
    },
    {
      "cell_type": "markdown",
      "id": "ce54d862",
      "metadata": {
        "id": "ce54d862"
      },
      "source": [
        "### The Decision Tree also showed an accuracy of about 76%, surprisingly about 4% less than the logistics regression."
      ]
    },
    {
      "cell_type": "markdown",
      "id": "0129fb74",
      "metadata": {
        "id": "0129fb74"
      },
      "source": [
        "# Data Science is Fun :)"
      ]
    },
    {
      "cell_type": "code",
      "execution_count": 62,
      "id": "ba97f1e9",
      "metadata": {
        "id": "ba97f1e9"
      },
      "outputs": [],
      "source": []
    }
  ],
  "metadata": {
    "kernelspec": {
      "display_name": "Python 3 (ipykernel)",
      "language": "python",
      "name": "python3"
    },
    "language_info": {
      "codemirror_mode": {
        "name": "ipython",
        "version": 3
      },
      "file_extension": ".py",
      "mimetype": "text/x-python",
      "name": "python",
      "nbconvert_exporter": "python",
      "pygments_lexer": "ipython3",
      "version": "3.9.13"
    },
    "colab": {
      "provenance": []
    }
  },
  "nbformat": 4,
  "nbformat_minor": 5
}